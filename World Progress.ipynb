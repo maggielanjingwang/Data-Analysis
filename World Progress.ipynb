{
 "cells": [
  {
   "cell_type": "code",
   "execution_count": 1,
   "metadata": {
    "deletable": false,
    "editable": false
   },
   "outputs": [
    {
     "name": "stdout",
     "output_type": "stream",
     "text": [
      "=====================================================================\n",
      "Assignment: Project 1: World Progress\n",
      "OK, version v1.12.5\n",
      "=====================================================================\n",
      "\n"
     ]
    }
   ],
   "source": [
    "# Initialize OK\n",
    "from client.api.notebook import Notebook\n",
    "ok = Notebook('project1.ok')"
   ]
  },
  {
   "cell_type": "markdown",
   "metadata": {},
   "source": [
    "## Project 1: World Progress"
   ]
  },
  {
   "cell_type": "markdown",
   "metadata": {},
   "source": [
    "In this project, you'll explore data from [Gapminder.org](http://gapminder.org), a website dedicated to providing a fact-based view of the world and how it has changed. That site includes several data visualizations and presentations, but also publishes the raw data that we will use in this project to recreate and extend some of their most famous visualizations.\n",
    "\n",
    "The Gapminder website collects data from many sources and compiles them into tables that describe many countries around the world. All of the data they aggregate are published in the [Systema Globalis](https://github.com/open-numbers/ddf--gapminder--systema_globalis/blob/master/README.md). Their goal is \"to compile all public statistics; Social, Economic and Environmental; into a comparable total dataset.\" All data sets in this project are copied directly from the Systema Globalis without any changes.\n",
    "\n",
    "This project is dedicated to [Hans Rosling](https://en.wikipedia.org/wiki/Hans_Rosling) (1948-2017), who championed the use of data to understand and prioritize global development challenges."
   ]
  },
  {
   "cell_type": "markdown",
   "metadata": {},
   "source": [
    "### Logistics\n",
    "\n",
    "**Deadline:** This project is due at 11:59pm on Sunday 7/12. Projects will be accepted up to 2 days (48 hours) late; a project submitted less than 24 hours after the deadline will receive 2/3 credit, a project submitted between 24 and 48 hours after the deadline will receive 1/3 credit, and a project submitted 48 hours or more after the deadline will receive no credit. It's **much** better to be early than late, so start working now.\n",
    "\n",
    "**Checkpoint:** For full credit, you must also complete the first 8 questions, pass all public autograder tests, and submit to okpy by 11:59pm on Thursday 7/9. After you've submitted the checkpoint, you may still change your answers before the project deadline - only your final submission will be graded for correctness. You will have some lab time to work on these questions, but we recommend that you start the project before lab and leave time to finish the checkpoint afterward.\n",
    "\n",
    "**Partners:** You may work with one other partner. Only one of you is required to submit the project. On [okpy.org](http://okpy.org), the person who submits should also designate their partner so that both of you receive credit.\n",
    "\n",
    "**Rules:** Don't share your code with anybody but your partner. You are welcome to discuss questions with other students, but don't share the answers. The experience of solving the problems in this project will prepare you for exams (and life). If someone asks you for the answer, resist! Instead, you can demonstrate how you would solve a similar problem.\n",
    "\n",
    "**Support:** You are not alone! Come to office hours, post on Piazza, and talk to your classmates. If you want to ask about the details of your solution to a problem, make a private Piazza post and the staff will respond. If you're ever feeling overwhelmed or don't know how to make progress, email your TA or tutor for help. You can find contact information for the staff on the [course website](http://data8.org/su20/staff.html).\n",
    "\n",
    "**Tests:** The tests that are given are **not comprehensive** and passing the tests for a question **does not** mean that you answered the question correctly. Tests usually only check that your table has the correct column labels. However, more tests will be applied to verify the correctness of your submission in order to assign your final score, so be careful and check your work! You might want to create your own checks along the way to see if your answers make sense. Additionally, before you submit, make sure that none of your cells take a very long time to run (several minutes).\n",
    "\n",
    "**Free Response Questions:** Make sure that you put the answers to the written questions in the indicated cell we provide. Check to make sure that you have a [Gradescope](http://gradescope.com) account, which is where the scores to the free response questions will be posted. If you do not, make sure to reach out to your assigned (u)GSI.\n",
    "\n",
    "**Advice:** Develop your answers incrementally. To perform a complicated table manipulation, break it up into steps, perform each step on a different line, give a new name to each result, and check that each intermediate result is what you expect. You can add any additional names or functions you want to the provided cells. Make sure that you are using distinct and meaningful variable names throughout the notebook. Along that line, **DO NOT** reuse the variable names that we use when we grade your answers. For example, in Question 1 of the Global Poverty section, we ask you to assign an answer to `latest`. Do not reassign the variable name `latest` to anything else in your notebook, otherwise there is the chance that our tests grade against what `latest` was reassigned to.\n",
    "\n",
    "You **never** have to use just one line in this project or any others. Use intermediate variables and multiple lines as much as you would like!  \n",
    "\n",
    "To get started, load `datascience`, `numpy`, `plots`, and `ok`."
   ]
  },
  {
   "cell_type": "code",
   "execution_count": 2,
   "metadata": {},
   "outputs": [
    {
     "name": "stdout",
     "output_type": "stream",
     "text": [
      "=====================================================================\n",
      "Assignment: Project 1: World Progress\n",
      "OK, version v1.12.5\n",
      "=====================================================================\n",
      "\n"
     ]
    }
   ],
   "source": [
    "from datascience import *\n",
    "import numpy as np\n",
    "\n",
    "%matplotlib inline\n",
    "import matplotlib.pyplot as plots\n",
    "plots.style.use('fivethirtyeight')\n",
    "\n",
    "from client.api.notebook import Notebook\n",
    "ok = Notebook('project1.ok')"
   ]
  },
  {
   "cell_type": "markdown",
   "metadata": {},
   "source": [
    "Before continuing the assignment, select \"Save and Checkpoint\" in the File menu and then execute the submit cell below. The result will contain a link that you can use to check that your assignment has been submitted successfully. If you submit more than once before the deadline, we will only grade your final submission. If you mistakenly submit the wrong one, you can head to okpy.org and flag the correct version. There will be another submit cell at the end of the assignment when you finish!"
   ]
  },
  {
   "cell_type": "code",
   "execution_count": 9,
   "metadata": {},
   "outputs": [
    {
     "data": {
      "application/javascript": [
       "IPython.notebook.save_checkpoint();"
      ],
      "text/plain": [
       "<IPython.core.display.Javascript object>"
      ]
     },
     "metadata": {},
     "output_type": "display_data"
    },
    {
     "data": {
      "application/javascript": [
       "IPython.notebook.save_notebook();"
      ],
      "text/plain": [
       "<IPython.core.display.Javascript object>"
      ]
     },
     "metadata": {},
     "output_type": "display_data"
    },
    {
     "name": "stdout",
     "output_type": "stream",
     "text": [
      "Saving notebook... Saved 'project1.ipynb'.\n",
      "Submit... 100% complete\n",
      "Submission successful for user: wang_lanjing98@berkeley.edu\n",
      "URL: https://okpy.org/cal/data8/su20/project1/submissions/7pYNqB\n",
      "\n"
     ]
    }
   ],
   "source": [
    "_ = ok.submit()"
   ]
  },
  {
   "cell_type": "markdown",
   "metadata": {
    "deletable": false,
    "editable": false
   },
   "source": [
    "## 1. Global Population Growth\n"
   ]
  },
  {
   "cell_type": "markdown",
   "metadata": {
    "deletable": false,
    "editable": false
   },
   "source": [
    "The global population of humans reached 1 billion around 1800, 3 billion around 1960, and 7 billion around 2011. The potential impact of exponential population growth has concerned scientists, economists, and politicians alike.\n",
    "\n",
    "The UN Population Division estimates that the world population will likely continue to grow throughout the 21st century, but at a slower rate, perhaps reaching 11 billion by 2100. However, the UN does not rule out scenarios of more extreme growth.\n",
    "\n",
    "<a href=\"http://www.pewresearch.org/fact-tank/2015/06/08/scientists-more-worried-than-public-about-worlds-growing-population/ft_15-06-04_popcount/\"> \n",
    " <img src=\"pew_population_projection.png\"/> \n",
    "</a>\n",
    "\n",
    "In this section, we will examine some of the factors that influence population growth and how they are changing around the world.\n",
    "\n",
    "The first table we will consider is the total population of each country over time. Run the cell below."
   ]
  },
  {
   "cell_type": "code",
   "execution_count": 3,
   "metadata": {
    "deletable": false,
    "editable": false
   },
   "outputs": [
    {
     "data": {
      "text/html": [
       "<table border=\"1\" class=\"dataframe\">\n",
       "    <thead>\n",
       "        <tr>\n",
       "            <th>geo</th> <th>time</th> <th>population_total</th>\n",
       "        </tr>\n",
       "    </thead>\n",
       "    <tbody>\n",
       "        <tr>\n",
       "            <td>abw </td> <td>1800</td> <td>19286           </td>\n",
       "        </tr>\n",
       "        <tr>\n",
       "            <td>abw </td> <td>1801</td> <td>19286           </td>\n",
       "        </tr>\n",
       "        <tr>\n",
       "            <td>abw </td> <td>1802</td> <td>19286           </td>\n",
       "        </tr>\n",
       "    </tbody>\n",
       "</table>\n",
       "<p>... (87792 rows omitted)</p>"
      ],
      "text/plain": [
       "<IPython.core.display.HTML object>"
      ]
     },
     "metadata": {},
     "output_type": "display_data"
    }
   ],
   "source": [
    "population = Table.read_table('population.csv')\n",
    "population.show(3)"
   ]
  },
  {
   "cell_type": "markdown",
   "metadata": {},
   "source": [
    "**Note:** The population csv file can also be found [here](https://github.com/open-numbers/ddf--gapminder--systema_globalis/raw/master/ddf--datapoints--population_total--by--geo--time.csv). The data for this project was downloaded in February 2017."
   ]
  },
  {
   "cell_type": "markdown",
   "metadata": {
    "deletable": false,
    "editable": false
   },
   "source": [
    "### Bangladesh\n",
    "\n",
    "In the `population` table, the `geo` column contains three-letter codes established by the [International Organization for Standardization](https://en.wikipedia.org/wiki/International_Organization_for_Standardization) (ISO) in the [Alpha-3](https://en.wikipedia.org/wiki/ISO_3166-1_alpha-3#Current_codes) standard. We will begin by taking a close look at Bangladesh. Inspect the standard to find the 3-letter code for Bangladesh."
   ]
  },
  {
   "cell_type": "markdown",
   "metadata": {
    "deletable": false,
    "editable": false
   },
   "source": [
    "**Question 1.** Create a table called `b_pop` that has two columns labeled `time` and `population_total`. The first column should contain the years from 1970 through 2015 (including both 1970 and 2015) and the second should contain the population of Bangladesh in each of those years.\n",
    "\n",
    "<!--\n",
    "BEGIN QUESTION\n",
    "name: q1_1\n",
    "-->"
   ]
  },
  {
   "cell_type": "code",
   "execution_count": 4,
   "metadata": {
    "deletable": false
   },
   "outputs": [
    {
     "data": {
      "text/html": [
       "<table border=\"1\" class=\"dataframe\">\n",
       "    <thead>\n",
       "        <tr>\n",
       "            <th>time</th> <th>population_total</th>\n",
       "        </tr>\n",
       "    </thead>\n",
       "    <tbody>\n",
       "        <tr>\n",
       "            <td>1970</td> <td>65048701        </td>\n",
       "        </tr>\n",
       "        <tr>\n",
       "            <td>1971</td> <td>66417450        </td>\n",
       "        </tr>\n",
       "        <tr>\n",
       "            <td>1972</td> <td>67578486        </td>\n",
       "        </tr>\n",
       "        <tr>\n",
       "            <td>1973</td> <td>68658472        </td>\n",
       "        </tr>\n",
       "        <tr>\n",
       "            <td>1974</td> <td>69837960        </td>\n",
       "        </tr>\n",
       "        <tr>\n",
       "            <td>1975</td> <td>71247153        </td>\n",
       "        </tr>\n",
       "        <tr>\n",
       "            <td>1976</td> <td>72930206        </td>\n",
       "        </tr>\n",
       "        <tr>\n",
       "            <td>1977</td> <td>74848466        </td>\n",
       "        </tr>\n",
       "        <tr>\n",
       "            <td>1978</td> <td>76948378        </td>\n",
       "        </tr>\n",
       "        <tr>\n",
       "            <td>1979</td> <td>79141947        </td>\n",
       "        </tr>\n",
       "    </tbody>\n",
       "</table>\n",
       "<p>... (36 rows omitted)</p>"
      ],
      "text/plain": [
       "time | population_total\n",
       "1970 | 65048701\n",
       "1971 | 66417450\n",
       "1972 | 67578486\n",
       "1973 | 68658472\n",
       "1974 | 69837960\n",
       "1975 | 71247153\n",
       "1976 | 72930206\n",
       "1977 | 74848466\n",
       "1978 | 76948378\n",
       "1979 | 79141947\n",
       "... (36 rows omitted)"
      ]
     },
     "execution_count": 4,
     "metadata": {},
     "output_type": "execute_result"
    }
   ],
   "source": [
    "b_pop = population.where('geo', are.equal_to('bgd')).where(\n",
    "    'time', are.between_or_equal_to(1970, 2015)).select(\n",
    "    'time', 'population_total')\n",
    "b_pop"
   ]
  },
  {
   "cell_type": "code",
   "execution_count": 5,
   "metadata": {
    "deletable": false,
    "editable": false
   },
   "outputs": [
    {
     "name": "stdout",
     "output_type": "stream",
     "text": [
      "~~~~~~~~~~~~~~~~~~~~~~~~~~~~~~~~~~~~~~~~~~~~~~~~~~~~~~~~~~~~~~~~~~~~~\n",
      "Running tests\n",
      "\n",
      "---------------------------------------------------------------------\n",
      "Test summary\n",
      "    Passed: 2\n",
      "    Failed: 0\n",
      "[ooooooooook] 100.0% passed\n",
      "\n"
     ]
    }
   ],
   "source": [
    "ok.grade(\"q1_1\");"
   ]
  },
  {
   "cell_type": "markdown",
   "metadata": {
    "deletable": false,
    "editable": false
   },
   "source": [
    "Run the following cell to create a table called `b_five` that has the population of Bangladesh every five years. At a glance, it appears that the population of Bangladesh has been growing quickly indeed!"
   ]
  },
  {
   "cell_type": "code",
   "execution_count": 6,
   "metadata": {
    "deletable": false,
    "editable": false
   },
   "outputs": [
    {
     "data": {
      "text/html": [
       "<table border=\"1\" class=\"dataframe\">\n",
       "    <thead>\n",
       "        <tr>\n",
       "            <th>time</th> <th>population_total</th>\n",
       "        </tr>\n",
       "    </thead>\n",
       "    <tbody>\n",
       "        <tr>\n",
       "            <td>1970</td> <td>65,048,701      </td>\n",
       "        </tr>\n",
       "        <tr>\n",
       "            <td>1975</td> <td>71,247,153      </td>\n",
       "        </tr>\n",
       "        <tr>\n",
       "            <td>1980</td> <td>81,364,176      </td>\n",
       "        </tr>\n",
       "        <tr>\n",
       "            <td>1985</td> <td>93,015,182      </td>\n",
       "        </tr>\n",
       "        <tr>\n",
       "            <td>1990</td> <td>105,983,136     </td>\n",
       "        </tr>\n",
       "        <tr>\n",
       "            <td>1995</td> <td>118,427,768     </td>\n",
       "        </tr>\n",
       "        <tr>\n",
       "            <td>2000</td> <td>131,280,739     </td>\n",
       "        </tr>\n",
       "        <tr>\n",
       "            <td>2005</td> <td>142,929,979     </td>\n",
       "        </tr>\n",
       "        <tr>\n",
       "            <td>2010</td> <td>151,616,777     </td>\n",
       "        </tr>\n",
       "        <tr>\n",
       "            <td>2015</td> <td>160,995,642     </td>\n",
       "        </tr>\n",
       "    </tbody>\n",
       "</table>"
      ],
      "text/plain": [
       "time | population_total\n",
       "1970 | 65,048,701\n",
       "1975 | 71,247,153\n",
       "1980 | 81,364,176\n",
       "1985 | 93,015,182\n",
       "1990 | 105,983,136\n",
       "1995 | 118,427,768\n",
       "2000 | 131,280,739\n",
       "2005 | 142,929,979\n",
       "2010 | 151,616,777\n",
       "2015 | 160,995,642"
      ]
     },
     "execution_count": 6,
     "metadata": {},
     "output_type": "execute_result"
    }
   ],
   "source": [
    "b_pop.set_format('population_total', NumberFormatter)\n",
    "\n",
    "fives = np.arange(1970, 2016, 5) # 1970, 1975, 1980, ...\n",
    "b_five = b_pop.sort('time').where('time', are.contained_in(fives))\n",
    "b_five"
   ]
  },
  {
   "cell_type": "markdown",
   "metadata": {
    "deletable": false,
    "editable": false
   },
   "source": [
    "**Question 2.** Assign `initial` to an array that contains the population for every five year interval from 1970 to 2010. Then, assign `changed` to an array that contains the population for every five year interval from 1975 to 2015. You should use the `b_five` table to create both arrays, first filtering the table to only contain the relevant years.\n",
    "\n",
    "We have provided the code below that uses  `initial` and `changed` in order to add a column to `b_five` called `annual_growth`. Don't worry about the calculation of the growth rates; run the test below to test your solution.\n",
    "\n",
    "If you are interested in how we came up with the formula for growth rates, consult the [growth rates](https://www.inferentialthinking.com/chapters/03/2/1/growth) section of the textbook.\n",
    "\n",
    "<!--\n",
    "BEGIN QUESTION\n",
    "name: q1_2\n",
    "-->"
   ]
  },
  {
   "cell_type": "code",
   "execution_count": 7,
   "metadata": {
    "deletable": false
   },
   "outputs": [
    {
     "data": {
      "text/html": [
       "<table border=\"1\" class=\"dataframe\">\n",
       "    <thead>\n",
       "        <tr>\n",
       "            <th>time</th> <th>population_total</th> <th>annual_growth</th>\n",
       "        </tr>\n",
       "    </thead>\n",
       "    <tbody>\n",
       "        <tr>\n",
       "            <td>1970</td> <td>65,048,701      </td> <td>1.84%        </td>\n",
       "        </tr>\n",
       "        <tr>\n",
       "            <td>1975</td> <td>71,247,153      </td> <td>2.69%        </td>\n",
       "        </tr>\n",
       "        <tr>\n",
       "            <td>1980</td> <td>81,364,176      </td> <td>2.71%        </td>\n",
       "        </tr>\n",
       "        <tr>\n",
       "            <td>1985</td> <td>93,015,182      </td> <td>2.64%        </td>\n",
       "        </tr>\n",
       "        <tr>\n",
       "            <td>1990</td> <td>105,983,136     </td> <td>2.25%        </td>\n",
       "        </tr>\n",
       "        <tr>\n",
       "            <td>1995</td> <td>118,427,768     </td> <td>2.08%        </td>\n",
       "        </tr>\n",
       "        <tr>\n",
       "            <td>2000</td> <td>131,280,739     </td> <td>1.71%        </td>\n",
       "        </tr>\n",
       "        <tr>\n",
       "            <td>2005</td> <td>142,929,979     </td> <td>1.19%        </td>\n",
       "        </tr>\n",
       "        <tr>\n",
       "            <td>2010</td> <td>151,616,777     </td> <td>1.21%        </td>\n",
       "        </tr>\n",
       "    </tbody>\n",
       "</table>"
      ],
      "text/plain": [
       "time | population_total | annual_growth\n",
       "1970 | 65,048,701       | 1.84%\n",
       "1975 | 71,247,153       | 2.69%\n",
       "1980 | 81,364,176       | 2.71%\n",
       "1985 | 93,015,182       | 2.64%\n",
       "1990 | 105,983,136      | 2.25%\n",
       "1995 | 118,427,768      | 2.08%\n",
       "2000 | 131,280,739      | 1.71%\n",
       "2005 | 142,929,979      | 1.19%\n",
       "2010 | 151,616,777      | 1.21%"
      ]
     },
     "execution_count": 7,
     "metadata": {},
     "output_type": "execute_result"
    }
   ],
   "source": [
    "initial = b_five.where('time', are.contained_in(np.arange(1970, 2011,1))).column('population_total')\n",
    "changed = b_five.where('time', are.contained_in(np.arange(1975, 2016,1))).column('population_total')\n",
    "\n",
    "b_1970_through_2010 = b_five.where('time', are.below_or_equal_to(2010)) \n",
    "b_five_growth = b_1970_through_2010.with_column('annual_growth', (changed/initial)**0.2-1)\n",
    "b_five_growth.set_format('annual_growth', PercentFormatter)"
   ]
  },
  {
   "cell_type": "code",
   "execution_count": 8,
   "metadata": {
    "deletable": false,
    "editable": false
   },
   "outputs": [
    {
     "name": "stdout",
     "output_type": "stream",
     "text": [
      "~~~~~~~~~~~~~~~~~~~~~~~~~~~~~~~~~~~~~~~~~~~~~~~~~~~~~~~~~~~~~~~~~~~~~\n",
      "Running tests\n",
      "\n",
      "---------------------------------------------------------------------\n",
      "Test summary\n",
      "    Passed: 2\n",
      "    Failed: 0\n",
      "[ooooooooook] 100.0% passed\n",
      "\n"
     ]
    }
   ],
   "source": [
    "ok.grade(\"q1_2\");"
   ]
  },
  {
   "cell_type": "markdown",
   "metadata": {
    "deletable": false,
    "editable": false
   },
   "source": [
    "While the population has grown every five years since 1970, the annual growth rate decreased dramatically from 1985 to 2005. Let's look at some other information in order to develop a possible explanation. Run the next cell to load three additional tables of measurements about countries over time."
   ]
  },
  {
   "cell_type": "code",
   "execution_count": 9,
   "metadata": {
    "deletable": false,
    "editable": false
   },
   "outputs": [],
   "source": [
    "life_expectancy = Table.read_table('life_expectancy.csv')\n",
    "child_mortality = Table.read_table('child_mortality.csv').relabel(2, 'child_mortality_under_5_per_1000_born')\n",
    "fertility = Table.read_table('fertility.csv')"
   ]
  },
  {
   "cell_type": "markdown",
   "metadata": {
    "deletable": false,
    "editable": false
   },
   "source": [
    "The `life_expectancy` table contains a statistic that is often used to measure how long people live, called *life expectancy at birth*. This number, for a country in a given year, [does not measure how long babies born in that year are expected to live](http://blogs.worldbank.org/opendata/what-does-life-expectancy-birth-really-mean). Instead, it measures how long someone would live, on average, if the *mortality conditions* in that year persisted throughout their lifetime. These \"mortality conditions\" describe what fraction of people at each age survived the year. So, it is a way of measuring the proportion of people that are staying alive, aggregated over different age groups in the population."
   ]
  },
  {
   "cell_type": "markdown",
   "metadata": {},
   "source": [
    "Run the following cells below to see `life_expectancy`, `child_mortality`, and `fertility`. Refer back to these tables as they will be helpful for answering further questions!"
   ]
  },
  {
   "cell_type": "code",
   "execution_count": 10,
   "metadata": {},
   "outputs": [
    {
     "data": {
      "text/html": [
       "<table border=\"1\" class=\"dataframe\">\n",
       "    <thead>\n",
       "        <tr>\n",
       "            <th>geo</th> <th>time</th> <th>life_expectancy_years</th>\n",
       "        </tr>\n",
       "    </thead>\n",
       "    <tbody>\n",
       "        <tr>\n",
       "            <td>afg </td> <td>1800</td> <td>28.21                </td>\n",
       "        </tr>\n",
       "        <tr>\n",
       "            <td>afg </td> <td>1801</td> <td>28.2                 </td>\n",
       "        </tr>\n",
       "        <tr>\n",
       "            <td>afg </td> <td>1802</td> <td>28.19                </td>\n",
       "        </tr>\n",
       "        <tr>\n",
       "            <td>afg </td> <td>1803</td> <td>28.18                </td>\n",
       "        </tr>\n",
       "        <tr>\n",
       "            <td>afg </td> <td>1804</td> <td>28.17                </td>\n",
       "        </tr>\n",
       "        <tr>\n",
       "            <td>afg </td> <td>1805</td> <td>28.16                </td>\n",
       "        </tr>\n",
       "        <tr>\n",
       "            <td>afg </td> <td>1806</td> <td>28.15                </td>\n",
       "        </tr>\n",
       "        <tr>\n",
       "            <td>afg </td> <td>1807</td> <td>28.14                </td>\n",
       "        </tr>\n",
       "        <tr>\n",
       "            <td>afg </td> <td>1808</td> <td>28.13                </td>\n",
       "        </tr>\n",
       "        <tr>\n",
       "            <td>afg </td> <td>1809</td> <td>28.12                </td>\n",
       "        </tr>\n",
       "    </tbody>\n",
       "</table>\n",
       "<p>... (43847 rows omitted)</p>"
      ],
      "text/plain": [
       "geo  | time | life_expectancy_years\n",
       "afg  | 1800 | 28.21\n",
       "afg  | 1801 | 28.2\n",
       "afg  | 1802 | 28.19\n",
       "afg  | 1803 | 28.18\n",
       "afg  | 1804 | 28.17\n",
       "afg  | 1805 | 28.16\n",
       "afg  | 1806 | 28.15\n",
       "afg  | 1807 | 28.14\n",
       "afg  | 1808 | 28.13\n",
       "afg  | 1809 | 28.12\n",
       "... (43847 rows omitted)"
      ]
     },
     "execution_count": 10,
     "metadata": {},
     "output_type": "execute_result"
    }
   ],
   "source": [
    "life_expectancy"
   ]
  },
  {
   "cell_type": "code",
   "execution_count": 11,
   "metadata": {},
   "outputs": [
    {
     "data": {
      "text/html": [
       "<table border=\"1\" class=\"dataframe\">\n",
       "    <thead>\n",
       "        <tr>\n",
       "            <th>geo</th> <th>time</th> <th>child_mortality_under_5_per_1000_born</th>\n",
       "        </tr>\n",
       "    </thead>\n",
       "    <tbody>\n",
       "        <tr>\n",
       "            <td>afg </td> <td>1800</td> <td>468.6                                </td>\n",
       "        </tr>\n",
       "        <tr>\n",
       "            <td>afg </td> <td>1801</td> <td>468.6                                </td>\n",
       "        </tr>\n",
       "        <tr>\n",
       "            <td>afg </td> <td>1802</td> <td>468.6                                </td>\n",
       "        </tr>\n",
       "        <tr>\n",
       "            <td>afg </td> <td>1803</td> <td>468.6                                </td>\n",
       "        </tr>\n",
       "        <tr>\n",
       "            <td>afg </td> <td>1804</td> <td>468.6                                </td>\n",
       "        </tr>\n",
       "        <tr>\n",
       "            <td>afg </td> <td>1805</td> <td>468.6                                </td>\n",
       "        </tr>\n",
       "        <tr>\n",
       "            <td>afg </td> <td>1806</td> <td>470                                  </td>\n",
       "        </tr>\n",
       "        <tr>\n",
       "            <td>afg </td> <td>1807</td> <td>470                                  </td>\n",
       "        </tr>\n",
       "        <tr>\n",
       "            <td>afg </td> <td>1808</td> <td>470                                  </td>\n",
       "        </tr>\n",
       "        <tr>\n",
       "            <td>afg </td> <td>1809</td> <td>470                                  </td>\n",
       "        </tr>\n",
       "    </tbody>\n",
       "</table>\n",
       "<p>... (40746 rows omitted)</p>"
      ],
      "text/plain": [
       "geo  | time | child_mortality_under_5_per_1000_born\n",
       "afg  | 1800 | 468.6\n",
       "afg  | 1801 | 468.6\n",
       "afg  | 1802 | 468.6\n",
       "afg  | 1803 | 468.6\n",
       "afg  | 1804 | 468.6\n",
       "afg  | 1805 | 468.6\n",
       "afg  | 1806 | 470\n",
       "afg  | 1807 | 470\n",
       "afg  | 1808 | 470\n",
       "afg  | 1809 | 470\n",
       "... (40746 rows omitted)"
      ]
     },
     "execution_count": 11,
     "metadata": {},
     "output_type": "execute_result"
    }
   ],
   "source": [
    "child_mortality"
   ]
  },
  {
   "cell_type": "code",
   "execution_count": 12,
   "metadata": {},
   "outputs": [
    {
     "data": {
      "text/html": [
       "<table border=\"1\" class=\"dataframe\">\n",
       "    <thead>\n",
       "        <tr>\n",
       "            <th>geo</th> <th>time</th> <th>children_per_woman_total_fertility</th>\n",
       "        </tr>\n",
       "    </thead>\n",
       "    <tbody>\n",
       "        <tr>\n",
       "            <td>afg </td> <td>1800</td> <td>7                                 </td>\n",
       "        </tr>\n",
       "        <tr>\n",
       "            <td>afg </td> <td>1801</td> <td>7                                 </td>\n",
       "        </tr>\n",
       "        <tr>\n",
       "            <td>afg </td> <td>1802</td> <td>7                                 </td>\n",
       "        </tr>\n",
       "        <tr>\n",
       "            <td>afg </td> <td>1803</td> <td>7                                 </td>\n",
       "        </tr>\n",
       "        <tr>\n",
       "            <td>afg </td> <td>1804</td> <td>7                                 </td>\n",
       "        </tr>\n",
       "        <tr>\n",
       "            <td>afg </td> <td>1805</td> <td>7                                 </td>\n",
       "        </tr>\n",
       "        <tr>\n",
       "            <td>afg </td> <td>1806</td> <td>7                                 </td>\n",
       "        </tr>\n",
       "        <tr>\n",
       "            <td>afg </td> <td>1807</td> <td>7                                 </td>\n",
       "        </tr>\n",
       "        <tr>\n",
       "            <td>afg </td> <td>1808</td> <td>7                                 </td>\n",
       "        </tr>\n",
       "        <tr>\n",
       "            <td>afg </td> <td>1809</td> <td>7                                 </td>\n",
       "        </tr>\n",
       "    </tbody>\n",
       "</table>\n",
       "<p>... (43402 rows omitted)</p>"
      ],
      "text/plain": [
       "geo  | time | children_per_woman_total_fertility\n",
       "afg  | 1800 | 7\n",
       "afg  | 1801 | 7\n",
       "afg  | 1802 | 7\n",
       "afg  | 1803 | 7\n",
       "afg  | 1804 | 7\n",
       "afg  | 1805 | 7\n",
       "afg  | 1806 | 7\n",
       "afg  | 1807 | 7\n",
       "afg  | 1808 | 7\n",
       "afg  | 1809 | 7\n",
       "... (43402 rows omitted)"
      ]
     },
     "execution_count": 12,
     "metadata": {},
     "output_type": "execute_result"
    }
   ],
   "source": [
    "fertility"
   ]
  },
  {
   "cell_type": "markdown",
   "metadata": {
    "deletable": false,
    "editable": false
   },
   "source": [
    "**Question 3.** Perhaps population is growing more slowly because people aren't living as long. Use the `life_expectancy` table to draw a line graph with the years 1970 and later on the horizontal axis that shows how the *life expectancy at birth* has changed in Bangladesh.\n",
    "\n",
    "<!--\n",
    "BEGIN QUESTION\n",
    "name: q1_3\n",
    "manual: true\n",
    "-->\n",
    "<!-- EXPORT TO PDF -->"
   ]
  },
  {
   "cell_type": "code",
   "execution_count": 61,
   "metadata": {
    "deletable": false,
    "export_pdf": true,
    "manual_grade": true,
    "manual_problem_id": "global_pop_3"
   },
   "outputs": [
    {
     "data": {
      "text/html": [
       "<table border=\"1\" class=\"dataframe\">\n",
       "    <thead>\n",
       "        <tr>\n",
       "            <th>geo</th> <th>time</th> <th>life_expectancy_years</th>\n",
       "        </tr>\n",
       "    </thead>\n",
       "    <tbody>\n",
       "        <tr>\n",
       "            <td>bgd </td> <td>1970</td> <td>46.31                </td>\n",
       "        </tr>\n",
       "        <tr>\n",
       "            <td>bgd </td> <td>1971</td> <td>45.74                </td>\n",
       "        </tr>\n",
       "        <tr>\n",
       "            <td>bgd </td> <td>1972</td> <td>45.52                </td>\n",
       "        </tr>\n",
       "        <tr>\n",
       "            <td>bgd </td> <td>1973</td> <td>45.77                </td>\n",
       "        </tr>\n",
       "        <tr>\n",
       "            <td>bgd </td> <td>1974</td> <td>46.49                </td>\n",
       "        </tr>\n",
       "        <tr>\n",
       "            <td>bgd </td> <td>1975</td> <td>47.58                </td>\n",
       "        </tr>\n",
       "        <tr>\n",
       "            <td>bgd </td> <td>1976</td> <td>48.92                </td>\n",
       "        </tr>\n",
       "        <tr>\n",
       "            <td>bgd </td> <td>1977</td> <td>50.27                </td>\n",
       "        </tr>\n",
       "        <tr>\n",
       "            <td>bgd </td> <td>1978</td> <td>51.47                </td>\n",
       "        </tr>\n",
       "        <tr>\n",
       "            <td>bgd </td> <td>1979</td> <td>52.44                </td>\n",
       "        </tr>\n",
       "    </tbody>\n",
       "</table>\n",
       "<p>... (37 rows omitted)</p>"
      ],
      "text/plain": [
       "geo  | time | life_expectancy_years\n",
       "bgd  | 1970 | 46.31\n",
       "bgd  | 1971 | 45.74\n",
       "bgd  | 1972 | 45.52\n",
       "bgd  | 1973 | 45.77\n",
       "bgd  | 1974 | 46.49\n",
       "bgd  | 1975 | 47.58\n",
       "bgd  | 1976 | 48.92\n",
       "bgd  | 1977 | 50.27\n",
       "bgd  | 1978 | 51.47\n",
       "bgd  | 1979 | 52.44\n",
       "... (37 rows omitted)"
      ]
     },
     "execution_count": 61,
     "metadata": {},
     "output_type": "execute_result"
    },
    {
     "data": {
      "image/png": "[encoded data removed]",
      "text/plain": [
       "<Figure size 432x288 with 1 Axes>"
      ]
     },
     "metadata": {},
     "output_type": "display_data"
    }
   ],
   "source": [
    "#Fill in code here\n",
    "a = life_expectancy.where('geo', are.equal_to('bgd')).where('time', are.above_or_equal_to(1970))\n",
    "a.plot('time','life_expectancy_years')\n",
    "a"
   ]
  },
  {
   "cell_type": "markdown",
   "metadata": {
    "deletable": false,
    "editable": false
   },
   "source": [
    "**Question 4.** Assuming everything else stays the same, do the trends in life expectancy in the graph above directly explain why the population growth rate decreased from 1985 to 2010 in Bangladesh? Why or why not? \n",
    "\n",
    "Hint: What happened in Bangladesh in 1991, and does that event explain the overall change in population growth rate?\n",
    "\n",
    "<!--\n",
    "BEGIN QUESTION\n",
    "name: q1_4\n",
    "manual: true\n",
    "-->\n",
    "<!-- EXPORT TO PDF -->"
   ]
  },
  {
   "cell_type": "markdown",
   "metadata": {
    "collapsed": true,
    "deletable": false,
    "export_pdf": true,
    "manual_grade": true,
    "manual_problem_id": "global_pop_4"
   },
   "source": [
    "*Life expectancy does explain why the population growth rate decreased in Bangladesh in 1991 but it does not explain the 25 years trend in Bangladesh. The graph shows that the positive proportion of life expectancy years and years (times), indicated that people have higher life expectancy years as time goes up and it would increase the population size if everything else stays at the same. However, the life expectancy in the graph decreased from 1985 to 2010 in Bangladesh, there must have side effects that affect the result. Certainly, Bangladesh cyclone in 1991 affect the population size and it caused numerous deaths, then the life expectancy decreased. The natural disaster affects the population size and life expectancy during the period, but after a few years, life expectancy continued to increase shortly.*"
   ]
  },
  {
   "cell_type": "markdown",
   "metadata": {
    "deletable": false,
    "editable": false
   },
   "source": [
    "The `fertility` table contains a statistic that is often used to measure how many babies are being born, the *total fertility rate*. This number describes the [number of children a woman would have in her lifetime](https://www.measureevaluation.org/prh/rh_indicators/specific/fertility/total-fertility-rate), on average, if the current rates of birth by age of the mother persisted throughout her child bearing years, assuming she survived through age 49. "
   ]
  },
  {
   "cell_type": "markdown",
   "metadata": {
    "deletable": false,
    "editable": false
   },
   "source": [
    "**Question 5.** Write a function `fertility_over_time` that takes the Alpha-3 code of a `country` and a `start` year. It returns a two-column table with labels `Year` and `Children per woman` that can be used to generate a line chart of the country's fertility rate each year, starting at the `start` year. The plot should include the `start` year and all later years that appear in the `fertility` table. \n",
    "\n",
    "Then, in the next cell, call your `fertility_over_time` function on the Alpha-3 code for Bangladesh and the year 1970 in order to plot how Bangladesh's fertility rate has changed since 1970. Note that the function `fertility_over_time` should not return the plot itself. **The expression that draws the line plot is provided for you; please don't change it.**\n",
    "\n",
    "<!--\n",
    "BEGIN QUESTION\n",
    "name: q1_5\n",
    "-->"
   ]
  },
  {
   "cell_type": "code",
   "execution_count": 14,
   "metadata": {
    "deletable": false
   },
   "outputs": [
    {
     "data": {
      "image/png": "[encoded data removed]",
      "text/plain": [
       "<Figure size 432x288 with 1 Axes>"
      ]
     },
     "metadata": {},
     "output_type": "display_data"
    }
   ],
   "source": [
    "def fertility_over_time(country, start):\n",
    "    \"\"\"Create a two-column table that describes a country's total fertility rate each year.\"\"\"\n",
    "    country_fertility = fertility.where('geo', are.equal_to(country))\n",
    "    country_fertility_after_start = country_fertility.where('time', are.above_or_equal_to(start))\n",
    "    cleaned_table = Table().with_columns('Year',country_fertility_after_start.column('time'),\n",
    "                'Children per woman',country_fertility_after_start.column('children_per_woman_total_fertility'))\n",
    "    return cleaned_table\n",
    "\n",
    "bangladesh_code = 'bgd'\n",
    "fertility_over_time(bangladesh_code, 1970).plot(0, 1) # You should *not* change this line."
   ]
  },
  {
   "cell_type": "code",
   "execution_count": 15,
   "metadata": {
    "deletable": false,
    "editable": false
   },
   "outputs": [
    {
     "name": "stdout",
     "output_type": "stream",
     "text": [
      "~~~~~~~~~~~~~~~~~~~~~~~~~~~~~~~~~~~~~~~~~~~~~~~~~~~~~~~~~~~~~~~~~~~~~\n",
      "Running tests\n",
      "\n",
      "---------------------------------------------------------------------\n",
      "Test summary\n",
      "    Passed: 3\n",
      "    Failed: 0\n",
      "[ooooooooook] 100.0% passed\n",
      "\n"
     ]
    }
   ],
   "source": [
    "ok.grade(\"q1_5\");"
   ]
  },
  {
   "cell_type": "markdown",
   "metadata": {
    "deletable": false,
    "editable": false
   },
   "source": [
    "**Question 6.** Assuming everything else is constant, do the trends in fertility in the graph above help directly explain why the population growth rate decreased from 1985 to 2010 in Bangladesh? Why or why not?\n",
    "\n",
    "<!--\n",
    "BEGIN QUESTION\n",
    "name: q1_6\n",
    "manual: true\n",
    "-->\n",
    "<!-- EXPORT TO PDF -->"
   ]
  },
  {
   "cell_type": "markdown",
   "metadata": {
    "deletable": false,
    "export_pdf": true,
    "manual_grade": true,
    "manual_problem_id": "global_pop_6"
   },
   "source": [
    "*Yes. The graph shows that the negative proportion of fertility (Children per women) and years. The decreasing fertility in the graph indicated that fewer babies are being borned per each women each year. It could directly explain why the population growth rate decreased from 1985 to 2010 in Bangladesh *"
   ]
  },
  {
   "cell_type": "markdown",
   "metadata": {
    "deletable": false,
    "editable": false
   },
   "source": [
    "It has been observed that lower fertility rates are often associated with lower child mortality rates. The link has been attributed to family planning: if parents can expect that their children will all survive into adulthood, then they will choose to have fewer children. We can see if this association is evident in Bangladesh by plotting the relationship between total fertility rate and [child mortality rate per 1000 children](https://en.wikipedia.org/wiki/Child_mortality)."
   ]
  },
  {
   "cell_type": "markdown",
   "metadata": {
    "deletable": false,
    "editable": false
   },
   "source": [
    "**Question 7.** Using both the `fertility` and `child_mortality` tables, draw a scatter diagram that has Bangladesh's total fertility on the horizontal axis and its child mortality on the vertical axis with one point for each year, starting with 1970.\n",
    "\n",
    "**The expression that draws the scatter diagram is provided for you; please don't change it.** Instead, create a table called `post_1969_fertility_and_child_mortality` with the appropriate column labels and data in order to generate the chart correctly. Use the label `Children per woman` to describe total fertility and the label `Child deaths per 1000 born` to describe child mortality.\n",
    "\n",
    "<!--\n",
    "BEGIN QUESTION\n",
    "name: q1_7\n",
    "manual: false\n",
    "-->"
   ]
  },
  {
   "cell_type": "code",
   "execution_count": 63,
   "metadata": {
    "deletable": false
   },
   "outputs": [
    {
     "data": {
      "text/html": [
       "<table border=\"1\" class=\"dataframe\">\n",
       "    <thead>\n",
       "        <tr>\n",
       "            <th>Children per woman</th> <th>Child deaths per 1000 born</th>\n",
       "        </tr>\n",
       "    </thead>\n",
       "    <tbody>\n",
       "        <tr>\n",
       "            <td>6.95              </td> <td>224.1                     </td>\n",
       "        </tr>\n",
       "        <tr>\n",
       "            <td>6.94              </td> <td>223                       </td>\n",
       "        </tr>\n",
       "        <tr>\n",
       "            <td>6.93              </td> <td>222                       </td>\n",
       "        </tr>\n",
       "        <tr>\n",
       "            <td>6.9               </td> <td>220.7                     </td>\n",
       "        </tr>\n",
       "        <tr>\n",
       "            <td>6.87              </td> <td>219.1                     </td>\n",
       "        </tr>\n",
       "        <tr>\n",
       "            <td>6.82              </td> <td>217.1                     </td>\n",
       "        </tr>\n",
       "        <tr>\n",
       "            <td>6.76              </td> <td>214.5                     </td>\n",
       "        </tr>\n",
       "        <tr>\n",
       "            <td>6.68              </td> <td>211.2                     </td>\n",
       "        </tr>\n",
       "        <tr>\n",
       "            <td>6.59              </td> <td>207.4                     </td>\n",
       "        </tr>\n",
       "        <tr>\n",
       "            <td>6.48              </td> <td>203.3                     </td>\n",
       "        </tr>\n",
       "    </tbody>\n",
       "</table>\n",
       "<p>... (36 rows omitted)</p>"
      ],
      "text/plain": [
       "Children per woman | Child deaths per 1000 born\n",
       "6.95               | 224.1\n",
       "6.94               | 223\n",
       "6.93               | 222\n",
       "6.9                | 220.7\n",
       "6.87               | 219.1\n",
       "6.82               | 217.1\n",
       "6.76               | 214.5\n",
       "6.68               | 211.2\n",
       "6.59               | 207.4\n",
       "6.48               | 203.3\n",
       "... (36 rows omitted)"
      ]
     },
     "execution_count": 63,
     "metadata": {},
     "output_type": "execute_result"
    },
    {
     "data": {
      "image/png": "[encoded data removed]",
      "text/plain": [
       "<Figure size 360x360 with 1 Axes>"
      ]
     },
     "metadata": {},
     "output_type": "display_data"
    }
   ],
   "source": [
    "bgd_fertility = fertility_over_time('bgd', 1970)\n",
    "bgd_child_mortality = child_mortality.where(\n",
    "    'geo', are.equal_to('bgd')).where('time', are.above_or_equal_to(1970))\n",
    "fertility_and_child_mortality = bgd_fertility.join('Year', bgd_child_mortality, 'time')\n",
    "post_1969_fertility_and_child_mortality = Table().with_columns('Children per woman',fertility_and_child_mortality.column('Children per woman') ,\n",
    "                                                              'Child deaths per 1000 born',fertility_and_child_mortality.column('child_mortality_under_5_per_1000_born'))\n",
    "\n",
    "post_1969_fertility_and_child_mortality.scatter('Children per woman', 'Child deaths per 1000 born') # You should *not* change this line.\n",
    "post_1969_fertility_and_child_mortality"
   ]
  },
  {
   "cell_type": "code",
   "execution_count": 17,
   "metadata": {
    "deletable": false,
    "editable": false
   },
   "outputs": [
    {
     "name": "stdout",
     "output_type": "stream",
     "text": [
      "~~~~~~~~~~~~~~~~~~~~~~~~~~~~~~~~~~~~~~~~~~~~~~~~~~~~~~~~~~~~~~~~~~~~~\n",
      "Running tests\n",
      "\n",
      "---------------------------------------------------------------------\n",
      "Test summary\n",
      "    Passed: 2\n",
      "    Failed: 0\n",
      "[ooooooooook] 100.0% passed\n",
      "\n"
     ]
    }
   ],
   "source": [
    "ok.grade(\"q1_7\");"
   ]
  },
  {
   "cell_type": "markdown",
   "metadata": {
    "deletable": false,
    "editable": false
   },
   "source": [
    "**Question 8.** In one or two sentences, describe the association (if any) that is illustrated by this scatter diagram. Does the diagram show that reduced child mortality causes parents to choose to have fewer children?\n",
    "\n",
    "<!--\n",
    "BEGIN QUESTION\n",
    "name: q1_8\n",
    "manual: true\n",
    "-->\n",
    "<!-- EXPORT TO PDF -->"
   ]
  },
  {
   "cell_type": "markdown",
   "metadata": {
    "deletable": false,
    "export_pdf": true,
    "manual_grade": true,
    "manual_problem_id": "global_pop_8"
   },
   "source": [
    "*The graph shows that there has a strong association between the child mortality rate and fertility rate because dots are connected very closely and the graph very clearly shows that these dots made a correlation line.  But the association doesn't mean reduced child mortality causes parents to choose to have fewer children because one factor changed doesn't cause the others to change.*"
   ]
  },
  {
   "cell_type": "markdown",
   "metadata": {},
   "source": [
    "### Checkpoint (due Thursday 7/9)\n",
    "#### Congratulations, you have reached the checkpoint! Run the submit cell below to generate the checkpoint submission."
   ]
  },
  {
   "cell_type": "code",
   "execution_count": 140,
   "metadata": {},
   "outputs": [
    {
     "data": {
      "application/javascript": [
       "IPython.notebook.save_checkpoint();"
      ],
      "text/plain": [
       "<IPython.core.display.Javascript object>"
      ]
     },
     "metadata": {},
     "output_type": "display_data"
    },
    {
     "data": {
      "application/javascript": [
       "IPython.notebook.save_notebook();"
      ],
      "text/plain": [
       "<IPython.core.display.Javascript object>"
      ]
     },
     "metadata": {},
     "output_type": "display_data"
    },
    {
     "name": "stdout",
     "output_type": "stream",
     "text": [
      "Saving notebook... Saved 'project1.ipynb'.\n",
      "Submit... 100% complete\n",
      "Submission successful for user: wang_lanjing98@berkeley.edu\n",
      "URL: https://okpy.org/cal/data8/su20/project1/submissions/qlLRm3\n",
      "\n"
     ]
    }
   ],
   "source": [
    "_ = ok.submit()"
   ]
  },
  {
   "cell_type": "markdown",
   "metadata": {
    "deletable": false,
    "editable": false
   },
   "source": [
    "### The World\n",
    "\n",
    "The change observed in Bangladesh since 1970 can also be observed in many other developing countries: health services improve, life expectancy increases, and child mortality decreases. At the same time, the fertility rate often plummets, and so the population growth rate decreases despite increasing longevity."
   ]
  },
  {
   "cell_type": "markdown",
   "metadata": {
    "deletable": false,
    "editable": false
   },
   "source": [
    "Run the cell below to generate two overlaid histograms, one for 1960 and one for 2010, that show the distributions of total fertility rates for these two years among all 201 countries in the `fertility` table."
   ]
  },
  {
   "cell_type": "code",
   "execution_count": 18,
   "metadata": {},
   "outputs": [
    {
     "data": {
      "text/html": [
       "<table border=\"1\" class=\"dataframe\">\n",
       "    <thead>\n",
       "        <tr>\n",
       "            <th>geo</th> <th>time</th> <th>children_per_woman_total_fertility</th>\n",
       "        </tr>\n",
       "    </thead>\n",
       "    <tbody>\n",
       "        <tr>\n",
       "            <td>afg </td> <td>1960</td> <td>7.67                              </td>\n",
       "        </tr>\n",
       "        <tr>\n",
       "            <td>alb </td> <td>1960</td> <td>6.19                              </td>\n",
       "        </tr>\n",
       "        <tr>\n",
       "            <td>dza </td> <td>1960</td> <td>7.65                              </td>\n",
       "        </tr>\n",
       "        <tr>\n",
       "            <td>ago </td> <td>1960</td> <td>7.32                              </td>\n",
       "        </tr>\n",
       "        <tr>\n",
       "            <td>atg </td> <td>1960</td> <td>4.43                              </td>\n",
       "        </tr>\n",
       "        <tr>\n",
       "            <td>arg </td> <td>1960</td> <td>3.11                              </td>\n",
       "        </tr>\n",
       "        <tr>\n",
       "            <td>arm </td> <td>1960</td> <td>4.55                              </td>\n",
       "        </tr>\n",
       "        <tr>\n",
       "            <td>abw </td> <td>1960</td> <td>4.82                              </td>\n",
       "        </tr>\n",
       "        <tr>\n",
       "            <td>aus </td> <td>1960</td> <td>3.45                              </td>\n",
       "        </tr>\n",
       "        <tr>\n",
       "            <td>aut </td> <td>1960</td> <td>2.7                               </td>\n",
       "        </tr>\n",
       "    </tbody>\n",
       "</table>\n",
       "<p>... (191 rows omitted)</p>"
      ],
      "text/plain": [
       "geo  | time | children_per_woman_total_fertility\n",
       "afg  | 1960 | 7.67\n",
       "alb  | 1960 | 6.19\n",
       "dza  | 1960 | 7.65\n",
       "ago  | 1960 | 7.32\n",
       "atg  | 1960 | 4.43\n",
       "arg  | 1960 | 3.11\n",
       "arm  | 1960 | 4.55\n",
       "abw  | 1960 | 4.82\n",
       "aus  | 1960 | 3.45\n",
       "aut  | 1960 | 2.7\n",
       "... (191 rows omitted)"
      ]
     },
     "execution_count": 18,
     "metadata": {},
     "output_type": "execute_result"
    }
   ],
   "source": [
    "fertility.where('time', 1960)"
   ]
  },
  {
   "cell_type": "code",
   "execution_count": 19,
   "metadata": {},
   "outputs": [],
   "source": [
    "## The fertility.where('time', 1960).column(2) is make an array with fertility of year in 1960, column(2) locate\n",
    "# the column index 2 is children_per_woman_total_fertility in the column"
   ]
  },
  {
   "cell_type": "code",
   "execution_count": 20,
   "metadata": {
    "deletable": false
   },
   "outputs": [
    {
     "data": {
      "image/png": "[encoded data removed]",
      "text/plain": [
       "<Figure size 432x288 with 1 Axes>"
      ]
     },
     "metadata": {},
     "output_type": "display_data"
    }
   ],
   "source": [
    "Table().with_columns(\n",
    "    '1960', fertility.where('time', 1960).column(2),\n",
    "    '2010', fertility.where('time', 2010).column(2)\n",
    ").hist(bins=np.arange(0, 10, 0.5), unit='child per woman')\n",
    "_ = plots.xlabel('Children per woman')\n",
    "_ = plots.ylabel('Percent per children per woman')\n",
    "_ = plots.xticks(np.arange(10))"
   ]
  },
  {
   "cell_type": "markdown",
   "metadata": {
    "deletable": false,
    "editable": false
   },
   "source": [
    "**Question 9.** Assign `fertility_statements` to an array of the numbers of each statement below that can be correctly inferred from these histograms.\n",
    "1. About the same number of countries had a fertility rate between 3.5 and 4.5 in both 1960 and 2010.\n",
    "1. In 2010, about 40% of countries had a fertility rate between 1.5 and 2.\n",
    "1. In 1960, less than 20% of countries had a fertility rate below 3.\n",
    "1. More countries had a fertility rate above 3 in 1960 than in 2010.\n",
    "1. At least half of countries had a fertility rate between 5 and 8 in 1960.\n",
    "1. At least half of countries had a fertility rate below 3 in 2010.\n",
    "\n",
    "<!--\n",
    "BEGIN QUESTION\n",
    "name: q1_9\n",
    "-->"
   ]
  },
  {
   "cell_type": "code",
   "execution_count": 66,
   "metadata": {
    "deletable": false
   },
   "outputs": [],
   "source": [
    "fertility_statements = make_array(1, 3, 4, 5, 6)"
   ]
  },
  {
   "cell_type": "code",
   "execution_count": 67,
   "metadata": {
    "deletable": false,
    "editable": false
   },
   "outputs": [
    {
     "name": "stdout",
     "output_type": "stream",
     "text": [
      "~~~~~~~~~~~~~~~~~~~~~~~~~~~~~~~~~~~~~~~~~~~~~~~~~~~~~~~~~~~~~~~~~~~~~\n",
      "Running tests\n",
      "\n",
      "---------------------------------------------------------------------\n",
      "Test summary\n",
      "    Passed: 1\n",
      "    Failed: 0\n",
      "[ooooooooook] 100.0% passed\n",
      "\n"
     ]
    }
   ],
   "source": [
    "ok.grade(\"q1_9\");"
   ]
  },
  {
   "cell_type": "markdown",
   "metadata": {
    "deletable": false,
    "editable": false
   },
   "source": [
    "**Question 10.** Draw a line plot of the world population from 1800 through 2005. The world population is the sum of all the country's populations. \n",
    "\n",
    "<!--\n",
    "BEGIN QUESTION\n",
    "name: q1_10\n",
    "manual: true\n",
    "-->\n",
    "<!-- EXPORT TO PDF -->"
   ]
  },
  {
   "cell_type": "code",
   "execution_count": 27,
   "metadata": {
    "deletable": false,
    "export_pdf": true,
    "manual_grade": true,
    "manual_problem_id": "global_pop_10"
   },
   "outputs": [
    {
     "data": {
      "image/png": "[encoded data removed]",
      "text/plain": [
       "<Figure size 432x288 with 1 Axes>"
      ]
     },
     "metadata": {},
     "output_type": "display_data"
    }
   ],
   "source": [
    "#Fill in code here\n",
    "population.where('time', are.between(1800, 2006)).drop('geo').group(\n",
    "    'time', sum).relabeled(\n",
    "    'population_total sum', 'world population').plot('time', 'world population')"
   ]
  },
  {
   "cell_type": "markdown",
   "metadata": {
    "deletable": false,
    "editable": false
   },
   "source": [
    "**Question 11.** Create a function `stats_for_year` that takes a `year` and returns a table of statistics. The table it returns should have four columns: `geo`, `population_total`, `children_per_woman_total_fertility`, and `child_mortality_under_5_per_1000_born`. Each row should contain one Alpha-3 country code and three statistics: population, fertility rate, and child mortality for that `year` from the `population`, `fertility` and `child_mortality` tables. Only include rows for which all three statistics are available for the country and year.\n",
    "\n",
    "In addition, restrict the result to country codes that appears in `big_50`, an array of the 50 most populous countries in 2010. This restriction will speed up computations later in the project.\n",
    "\n",
    "After you write `stats_for_year`, try calling `stats_for_year` on any year between 1960 and 2010. Try to understand the output of stats_for_year.\n",
    "\n",
    "*Hint*: The tests for this question are quite comprehensive, so if you pass the tests, your function is probably correct. However, without calling your function yourself and looking at the output, it will be very difficult to understand any problems you have, so try your best to write the function correctly and check that it works before you rely on the `ok` tests to confirm your work.\n",
    "\n",
    "<!--\n",
    "BEGIN QUESTION\n",
    "name: q1_11\n",
    "manual: false\n",
    "-->"
   ]
  },
  {
   "cell_type": "code",
   "execution_count": 29,
   "metadata": {
    "deletable": false
   },
   "outputs": [
    {
     "data": {
      "text/html": [
       "<table border=\"1\" class=\"dataframe\">\n",
       "    <thead>\n",
       "        <tr>\n",
       "            <th>geo</th> <th>population_total</th> <th>children_per_woman_total_fertility</th> <th>child_mortality_under_5_per_1000_born</th>\n",
       "        </tr>\n",
       "    </thead>\n",
       "    <tbody>\n",
       "        <tr>\n",
       "            <td>afg </td> <td>8994793         </td> <td>7.67                              </td> <td>362.4                                </td>\n",
       "        </tr>\n",
       "        <tr>\n",
       "            <td>arg </td> <td>20619075        </td> <td>3.11                              </td> <td>73.2                                 </td>\n",
       "        </tr>\n",
       "        <tr>\n",
       "            <td>bgd </td> <td>48200702        </td> <td>6.73                              </td> <td>264.3                                </td>\n",
       "        </tr>\n",
       "        <tr>\n",
       "            <td>bra </td> <td>72493585        </td> <td>6.21                              </td> <td>171.8                                </td>\n",
       "        </tr>\n",
       "        <tr>\n",
       "            <td>can </td> <td>17909232        </td> <td>3.91                              </td> <td>32.6                                 </td>\n",
       "        </tr>\n",
       "        <tr>\n",
       "            <td>chn </td> <td>644450173       </td> <td>3.99                              </td> <td>309                                  </td>\n",
       "        </tr>\n",
       "        <tr>\n",
       "            <td>cod </td> <td>15248246        </td> <td>6                                 </td> <td>266                                  </td>\n",
       "        </tr>\n",
       "        <tr>\n",
       "            <td>col </td> <td>16480384        </td> <td>6.81                              </td> <td>127.3                                </td>\n",
       "        </tr>\n",
       "        <tr>\n",
       "            <td>deu </td> <td>73179665        </td> <td>2.41                              </td> <td>42.87                                </td>\n",
       "        </tr>\n",
       "        <tr>\n",
       "            <td>dza </td> <td>11124892        </td> <td>7.65                              </td> <td>245.7                                </td>\n",
       "        </tr>\n",
       "    </tbody>\n",
       "</table>\n",
       "<p>... (40 rows omitted)</p>"
      ],
      "text/plain": [
       "geo  | population_total | children_per_woman_total_fertility | child_mortality_under_5_per_1000_born\n",
       "afg  | 8994793          | 7.67                               | 362.4\n",
       "arg  | 20619075         | 3.11                               | 73.2\n",
       "bgd  | 48200702         | 6.73                               | 264.3\n",
       "bra  | 72493585         | 6.21                               | 171.8\n",
       "can  | 17909232         | 3.91                               | 32.6\n",
       "chn  | 644450173        | 3.99                               | 309\n",
       "cod  | 15248246         | 6                                  | 266\n",
       "col  | 16480384         | 6.81                               | 127.3\n",
       "deu  | 73179665         | 2.41                               | 42.87\n",
       "dza  | 11124892         | 7.65                               | 245.7\n",
       "... (40 rows omitted)"
      ]
     },
     "execution_count": 29,
     "metadata": {},
     "output_type": "execute_result"
    }
   ],
   "source": [
    "# We first create a population table that only includes the \n",
    "# 50 countries with the largest 2010 populations. We focus on \n",
    "# these 50 countries only so that plotting later will run faster.\n",
    "big_50 = population.where('time', are.equal_to(2010)).sort(\"population_total\", descending=True).take(np.arange(50)).column('geo')\n",
    "population_of_big_50 = population.where('time', are.above(1959)).where('geo', are.contained_in(big_50))\n",
    "\n",
    "def stats_for_year(year):\n",
    "    \"\"\"Return a table of the stats for each country that year.\"\"\"\n",
    "    p = population_of_big_50.where('time', are.equal_to(year)).drop('time')\n",
    "    f = fertility.where('time', are.equal_to(year)).drop('time')\n",
    "    c = child_mortality.where('time', are.equal_to(year)).drop('time')\n",
    "    return p.join('geo', f, 'geo').join('geo', c, 'geo')\n",
    "\n",
    "stats_for_year(1960)"
   ]
  },
  {
   "cell_type": "code",
   "execution_count": 30,
   "metadata": {
    "deletable": false,
    "editable": false
   },
   "outputs": [
    {
     "name": "stdout",
     "output_type": "stream",
     "text": [
      "~~~~~~~~~~~~~~~~~~~~~~~~~~~~~~~~~~~~~~~~~~~~~~~~~~~~~~~~~~~~~~~~~~~~~\n",
      "Running tests\n",
      "\n",
      "---------------------------------------------------------------------\n",
      "Test summary\n",
      "    Passed: 4\n",
      "    Failed: 0\n",
      "[ooooooooook] 100.0% passed\n",
      "\n"
     ]
    }
   ],
   "source": [
    "ok.grade(\"q1_11\");"
   ]
  },
  {
   "cell_type": "markdown",
   "metadata": {
    "deletable": false,
    "editable": false
   },
   "source": [
    "**Question 12.** Create a table called `pop_by_decade` with two columns called `decade` and `population`. It has a row for each `year` from 1960 to 2010 that starts a decade. The `population` column contains the total population of all countries included in the result of `stats_for_year(year)` for the first `year` of the decade. For example, 1960 is the first year of the 1960's decade. You should see that these countries contain most of the world's population.\n",
    "\n",
    "*Hint:* One approach is to define a function `pop_for_year` that computes this total population, then `apply` it to the `decade` column.  The `stats_for_year` function from the previous question may be useful here.\n",
    "\n",
    "This first test is just a sanity check for your helper function if you choose to use it. You will not lose points for not implementing the function `pop_for_year`.\n",
    "\n",
    "**Note:** The cell where you will generate the `pop_by_decade` table is below the cell where you can choose to define the helper function `pop_for_year`. You should define your `pop_by_decade` table in the cell that starts with the table `decades` being defined. \n",
    "\n",
    "<!--\n",
    "BEGIN QUESTION\n",
    "name: q1_12_0\n",
    "manual: false\n",
    "points: 0\n",
    "-->"
   ]
  },
  {
   "cell_type": "code",
   "execution_count": 31,
   "metadata": {},
   "outputs": [
    {
     "data": {
      "text/html": [
       "<table border=\"1\" class=\"dataframe\">\n",
       "    <thead>\n",
       "        <tr>\n",
       "            <th>decade</th> <th>population</th>\n",
       "        </tr>\n",
       "    </thead>\n",
       "    <tbody>\n",
       "        <tr>\n",
       "            <td>1960  </td> <td>2624944597</td>\n",
       "        </tr>\n",
       "        <tr>\n",
       "            <td>1970  </td> <td>3211487418</td>\n",
       "        </tr>\n",
       "        <tr>\n",
       "            <td>1980  </td> <td>3880722003</td>\n",
       "        </tr>\n",
       "        <tr>\n",
       "            <td>1990  </td> <td>4648434558</td>\n",
       "        </tr>\n",
       "        <tr>\n",
       "            <td>2000  </td> <td>5367553063</td>\n",
       "        </tr>\n",
       "        <tr>\n",
       "            <td>2010  </td> <td>6040810517</td>\n",
       "        </tr>\n",
       "    </tbody>\n",
       "</table>"
      ],
      "text/plain": [
       "decade | population\n",
       "1960   | 2624944597\n",
       "1970   | 3211487418\n",
       "1980   | 3880722003\n",
       "1990   | 4648434558\n",
       "2000   | 5367553063\n",
       "2010   | 6040810517"
      ]
     },
     "execution_count": 31,
     "metadata": {},
     "output_type": "execute_result"
    }
   ],
   "source": [
    "def pop_for_year(year):\n",
    "    return sum(stats_for_year(year).column('population_total'))\n",
    "decades = Table().with_column('decade', np.arange(1960, 2011, 10))\n",
    "pop_by_decade = decades.with_column('population', decades.apply(pop_for_year, 'decade'))\n",
    "pop_by_decade"
   ]
  },
  {
   "cell_type": "code",
   "execution_count": 32,
   "metadata": {
    "deletable": false,
    "editable": false
   },
   "outputs": [
    {
     "name": "stdout",
     "output_type": "stream",
     "text": [
      "~~~~~~~~~~~~~~~~~~~~~~~~~~~~~~~~~~~~~~~~~~~~~~~~~~~~~~~~~~~~~~~~~~~~~\n",
      "Running tests\n",
      "\n",
      "---------------------------------------------------------------------\n",
      "Test summary\n",
      "    Passed: 3\n",
      "    Failed: 0\n",
      "[ooooooooook] 100.0% passed\n",
      "\n"
     ]
    }
   ],
   "source": [
    "ok.grade(\"q1_12_0\");"
   ]
  },
  {
   "cell_type": "markdown",
   "metadata": {
    "deletable": false,
    "editable": false
   },
   "source": [
    "Now that you've defined your helper function (if you've chosen to do so), define the `pop_by_decade` table.\n",
    "\n",
    "<!--\n",
    "BEGIN QUESTION\n",
    "name: q1_12\n",
    "manual: false\n",
    "-->"
   ]
  },
  {
   "cell_type": "code",
   "execution_count": 33,
   "metadata": {
    "deletable": false
   },
   "outputs": [
    {
     "data": {
      "text/html": [
       "<table border=\"1\" class=\"dataframe\">\n",
       "    <thead>\n",
       "        <tr>\n",
       "            <th>decade</th> <th>population</th>\n",
       "        </tr>\n",
       "    </thead>\n",
       "    <tbody>\n",
       "        <tr>\n",
       "            <td>1960  </td> <td>2,624,944,597</td>\n",
       "        </tr>\n",
       "        <tr>\n",
       "            <td>1970  </td> <td>3,211,487,418</td>\n",
       "        </tr>\n",
       "        <tr>\n",
       "            <td>1980  </td> <td>3,880,722,003</td>\n",
       "        </tr>\n",
       "        <tr>\n",
       "            <td>1990  </td> <td>4,648,434,558</td>\n",
       "        </tr>\n",
       "        <tr>\n",
       "            <td>2000  </td> <td>5,367,553,063</td>\n",
       "        </tr>\n",
       "        <tr>\n",
       "            <td>2010  </td> <td>6,040,810,517</td>\n",
       "        </tr>\n",
       "    </tbody>\n",
       "</table>"
      ],
      "text/plain": [
       "decade | population\n",
       "1960   | 2,624,944,597\n",
       "1970   | 3,211,487,418\n",
       "1980   | 3,880,722,003\n",
       "1990   | 4,648,434,558\n",
       "2000   | 5,367,553,063\n",
       "2010   | 6,040,810,517"
      ]
     },
     "execution_count": 33,
     "metadata": {},
     "output_type": "execute_result"
    }
   ],
   "source": [
    "decades = Table().with_column('decade', np.arange(1960, 2011, 10))\n",
    "\n",
    "pop_by_decade = Table().with_columns(['decade', decades[0], \n",
    "                                      'population', decades.apply(pop_for_year, 'decade')])\n",
    "pop_by_decade.set_format(1, NumberFormatter)"
   ]
  },
  {
   "cell_type": "code",
   "execution_count": 34,
   "metadata": {
    "deletable": false,
    "editable": false
   },
   "outputs": [
    {
     "name": "stdout",
     "output_type": "stream",
     "text": [
      "~~~~~~~~~~~~~~~~~~~~~~~~~~~~~~~~~~~~~~~~~~~~~~~~~~~~~~~~~~~~~~~~~~~~~\n",
      "Running tests\n",
      "\n",
      "---------------------------------------------------------------------\n",
      "Test summary\n",
      "    Passed: 2\n",
      "    Failed: 0\n",
      "[ooooooooook] 100.0% passed\n",
      "\n"
     ]
    }
   ],
   "source": [
    "ok.grade(\"q1_12\");"
   ]
  },
  {
   "cell_type": "markdown",
   "metadata": {
    "deletable": false,
    "editable": false
   },
   "source": [
    "The `countries` table describes various characteristics of countries. The `country` column contains the same codes as the `geo` column in each of the other data tables (`population`, `fertility`, and `child_mortality`). The `world_6region` column classifies each country into a region of the world. Run the cell below to inspect the data."
   ]
  },
  {
   "cell_type": "code",
   "execution_count": 35,
   "metadata": {},
   "outputs": [
    {
     "data": {
      "text/html": [
       "<table border=\"1\" class=\"dataframe\">\n",
       "    <thead>\n",
       "        <tr>\n",
       "            <th>country</th> <th>name</th> <th>world_6region</th>\n",
       "        </tr>\n",
       "    </thead>\n",
       "    <tbody>\n",
       "        <tr>\n",
       "            <td>afg      </td> <td>Afghanistan          </td> <td>south_asia              </td>\n",
       "        </tr>\n",
       "        <tr>\n",
       "            <td>akr_a_dhe</td> <td>Akrotiri and Dhekelia</td> <td>europe_central_asia     </td>\n",
       "        </tr>\n",
       "        <tr>\n",
       "            <td>alb      </td> <td>Albania              </td> <td>europe_central_asia     </td>\n",
       "        </tr>\n",
       "        <tr>\n",
       "            <td>dza      </td> <td>Algeria              </td> <td>middle_east_north_africa</td>\n",
       "        </tr>\n",
       "        <tr>\n",
       "            <td>asm      </td> <td>American Samoa       </td> <td>east_asia_pacific       </td>\n",
       "        </tr>\n",
       "        <tr>\n",
       "            <td>and      </td> <td>Andorra              </td> <td>europe_central_asia     </td>\n",
       "        </tr>\n",
       "        <tr>\n",
       "            <td>ago      </td> <td>Angola               </td> <td>sub_saharan_africa      </td>\n",
       "        </tr>\n",
       "        <tr>\n",
       "            <td>aia      </td> <td>Anguilla             </td> <td>america                 </td>\n",
       "        </tr>\n",
       "        <tr>\n",
       "            <td>atg      </td> <td>Antigua and Barbuda  </td> <td>america                 </td>\n",
       "        </tr>\n",
       "        <tr>\n",
       "            <td>arg      </td> <td>Argentina            </td> <td>america                 </td>\n",
       "        </tr>\n",
       "    </tbody>\n",
       "</table>\n",
       "<p>... (245 rows omitted)</p>"
      ],
      "text/plain": [
       "country   | name                  | world_6region\n",
       "afg       | Afghanistan           | south_asia\n",
       "akr_a_dhe | Akrotiri and Dhekelia | europe_central_asia\n",
       "alb       | Albania               | europe_central_asia\n",
       "dza       | Algeria               | middle_east_north_africa\n",
       "asm       | American Samoa        | east_asia_pacific\n",
       "and       | Andorra               | europe_central_asia\n",
       "ago       | Angola                | sub_saharan_africa\n",
       "aia       | Anguilla              | america\n",
       "atg       | Antigua and Barbuda   | america\n",
       "arg       | Argentina             | america\n",
       "... (245 rows omitted)"
      ]
     },
     "execution_count": 35,
     "metadata": {},
     "output_type": "execute_result"
    }
   ],
   "source": [
    "countries = Table.read_table('countries.csv').where('country', are.contained_in(population.group('geo').column('geo')))\n",
    "countries.select('country', 'name', 'world_6region')"
   ]
  },
  {
   "cell_type": "markdown",
   "metadata": {
    "deletable": false,
    "editable": false
   },
   "source": [
    "**Question 13.** Create a table called `region_counts` that has two columns, `region` and `count`. It should contain two columns: a region column and a count column that contains the number of countries in each region that appear in the result of `stats_for_year(1960)`. For example, one row would have `south_asia` as its `world_6region` value and an integer as its `count` value: the number of large South Asian countries for which we have population, fertility, and child mortality numbers from 1960.\n",
    "\n",
    "<!--\n",
    "BEGIN QUESTION\n",
    "name: q1_13\n",
    "-->"
   ]
  },
  {
   "cell_type": "code",
   "execution_count": 37,
   "metadata": {
    "deletable": false
   },
   "outputs": [
    {
     "data": {
      "text/html": [
       "<table border=\"1\" class=\"dataframe\">\n",
       "    <thead>\n",
       "        <tr>\n",
       "            <th>region</th> <th>count</th>\n",
       "        </tr>\n",
       "    </thead>\n",
       "    <tbody>\n",
       "        <tr>\n",
       "            <td>america                 </td> <td>8    </td>\n",
       "        </tr>\n",
       "        <tr>\n",
       "            <td>east_asia_pacific       </td> <td>10   </td>\n",
       "        </tr>\n",
       "        <tr>\n",
       "            <td>europe_central_asia     </td> <td>10   </td>\n",
       "        </tr>\n",
       "        <tr>\n",
       "            <td>middle_east_north_africa</td> <td>7    </td>\n",
       "        </tr>\n",
       "        <tr>\n",
       "            <td>south_asia              </td> <td>5    </td>\n",
       "        </tr>\n",
       "        <tr>\n",
       "            <td>sub_saharan_africa      </td> <td>10   </td>\n",
       "        </tr>\n",
       "    </tbody>\n",
       "</table>"
      ],
      "text/plain": [
       "region                   | count\n",
       "america                  | 8\n",
       "east_asia_pacific        | 10\n",
       "europe_central_asia      | 10\n",
       "middle_east_north_africa | 7\n",
       "south_asia               | 5\n",
       "sub_saharan_africa       | 10"
      ]
     },
     "execution_count": 37,
     "metadata": {},
     "output_type": "execute_result"
    }
   ],
   "source": [
    "region_counts = ...\n",
    "region_counts\n",
    "region_counts = stats_for_year(1960).select('geo').relabel('geo', 'country').join(\n",
    "    'country', countries, 'country').relabel(\n",
    "    'world_6region', 'region').select('region').group('region')\n",
    "region_counts"
   ]
  },
  {
   "cell_type": "code",
   "execution_count": 38,
   "metadata": {
    "deletable": false,
    "editable": false
   },
   "outputs": [
    {
     "name": "stdout",
     "output_type": "stream",
     "text": [
      "~~~~~~~~~~~~~~~~~~~~~~~~~~~~~~~~~~~~~~~~~~~~~~~~~~~~~~~~~~~~~~~~~~~~~\n",
      "Running tests\n",
      "\n",
      "---------------------------------------------------------------------\n",
      "Test summary\n",
      "    Passed: 2\n",
      "    Failed: 0\n",
      "[ooooooooook] 100.0% passed\n",
      "\n"
     ]
    }
   ],
   "source": [
    "ok.grade(\"q1_13\");"
   ]
  },
  {
   "cell_type": "markdown",
   "metadata": {
    "deletable": false,
    "editable": false
   },
   "source": [
    "The following scatter diagram compares total fertility rate and child mortality rate for each country in 1960. The area of each dot represents the population of the country, and the color represents its region of the world. Run the cell. Do you think you can identify any of the dots?"
   ]
  },
  {
   "cell_type": "code",
   "execution_count": 39,
   "metadata": {
    "deletable": false
   },
   "outputs": [
    {
     "data": {
      "image/png": "[encoded data removed]",
      "text/plain": [
       "<Figure size 360x360 with 1 Axes>"
      ]
     },
     "metadata": {},
     "output_type": "display_data"
    }
   ],
   "source": [
    "from functools import lru_cache as cache\n",
    "\n",
    "# This cache annotation makes sure that if the same year\n",
    "# is passed as an argument twice, the work of computing\n",
    "# the result is only carried out once.\n",
    "@cache(None)\n",
    "def stats_relabeled(year):\n",
    "    \"\"\"Relabeled and cached version of stats_for_year.\"\"\"\n",
    "    return stats_for_year(year).relabel(2, 'Children per woman').relabel(3, 'Child deaths per 1000 born')\n",
    "\n",
    "def fertility_vs_child_mortality(year):\n",
    "    \"\"\"Draw a color scatter diagram comparing child mortality and fertility.\"\"\"\n",
    "    with_region = stats_relabeled(year).join('geo', countries.select('country', 'world_6region'), 'country')\n",
    "    with_region.scatter(2, 3, sizes=1, group=4, s=500)\n",
    "    plots.xlim(0,10)\n",
    "    plots.ylim(-50, 500)\n",
    "    plots.title(year)\n",
    "\n",
    "fertility_vs_child_mortality(1960)"
   ]
  },
  {
   "cell_type": "markdown",
   "metadata": {
    "deletable": false,
    "editable": false
   },
   "source": [
    "**Question 14.** Assign `scatter_statements` to an array of the numbers of each statement below that can be inferred from this scatter diagram for 1960. \n",
    "1. As a whole, the `europe_central_asia` region had the lowest child mortality rate.\n",
    "1. The lowest child mortality rate of any country was from an `east_asia_pacific` country.\n",
    "1. Most countries had a fertility rate above 5.\n",
    "1. There was an association between child mortality and fertility.\n",
    "1. The two largest countries by population also had the two highest child mortality rate.\n",
    "\n",
    "<!--\n",
    "BEGIN QUESTION\n",
    "name: q1_14\n",
    "-->"
   ]
  },
  {
   "cell_type": "code",
   "execution_count": 40,
   "metadata": {
    "deletable": false
   },
   "outputs": [],
   "source": [
    "scatter_statements = make_array(1, 3, 4)"
   ]
  },
  {
   "cell_type": "code",
   "execution_count": 41,
   "metadata": {
    "deletable": false,
    "editable": false
   },
   "outputs": [
    {
     "name": "stdout",
     "output_type": "stream",
     "text": [
      "~~~~~~~~~~~~~~~~~~~~~~~~~~~~~~~~~~~~~~~~~~~~~~~~~~~~~~~~~~~~~~~~~~~~~\n",
      "Running tests\n",
      "\n",
      "---------------------------------------------------------------------\n",
      "Test summary\n",
      "    Passed: 1\n",
      "    Failed: 0\n",
      "[ooooooooook] 100.0% passed\n",
      "\n"
     ]
    }
   ],
   "source": [
    "ok.grade(\"q1_14\");"
   ]
  },
  {
   "cell_type": "markdown",
   "metadata": {
    "deletable": false
   },
   "source": [
    "The result of the cell below is interactive. Drag the slider to the right to see how countries have changed over time. You'll find that the great divide between so-called \"Western\" and \"developing\" countries that existed in the 1960's has nearly disappeared. This shift in fertility rates is the reason that the global population is expected to grow more slowly in the 21st century than it did in the 19th and 20th centuries.\n",
    "\n",
    "**Note:** Don't worry if a red warning pops up when running the cell below. You'll still be able to run the cell!"
   ]
  },
  {
   "cell_type": "code",
   "execution_count": 42,
   "metadata": {
    "deletable": false,
    "scrolled": false
   },
   "outputs": [
    {
     "name": "stderr",
     "output_type": "stream",
     "text": [
      "/srv/app/venv/lib/python3.6/site-packages/datascience/tables.py:193: FutureWarning: Implicit column method lookup is deprecated.\n",
      "  warnings.warn(\"Implicit column method lookup is deprecated.\", FutureWarning)\n"
     ]
    },
    {
     "data": {
      "application/vnd.jupyter.widget-view+json": {
       "model_id": "27c1075bf305475fb7d4a6027f3eb51f",
       "version_major": 2,
       "version_minor": 0
      },
      "text/plain": [
       "interactive(children=(IntSlider(value=1960, description='year', max=2015, min=1960), Output()), _dom_classes=(…"
      ]
     },
     "metadata": {},
     "output_type": "display_data"
    }
   ],
   "source": [
    "import ipywidgets as widgets\n",
    "\n",
    "# This part takes a few minutes to run because it \n",
    "# computes 55 tables in advance: one for each year.\n",
    "Table().with_column('Year', np.arange(1960, 2016)).apply(stats_relabeled, 'Year')\n",
    "\n",
    "_ = widgets.interact(fertility_vs_child_mortality, \n",
    "                     year=widgets.IntSlider(min=1960, max=2015, value=1960))"
   ]
  },
  {
   "cell_type": "markdown",
   "metadata": {
    "deletable": false,
    "editable": false
   },
   "source": [
    "Now is a great time to take a break and watch the same data presented by [Hans Rosling in a 2010 TEDx talk](https://www.gapminder.org/videos/reducing-child-mortality-a-moral-and-environmental-imperative) with smoother animation and witty commentary."
   ]
  },
  {
   "cell_type": "markdown",
   "metadata": {
    "deletable": false,
    "editable": false
   },
   "source": [
    "## 2. Global Poverty\n"
   ]
  },
  {
   "cell_type": "markdown",
   "metadata": {
    "deletable": false,
    "editable": false
   },
   "source": [
    "In 1800, 85% of the world's 1 billion people lived in *extreme poverty*, defined by the United Nations as \"a condition characterized by severe deprivation of basic human needs, including food, safe drinking water, sanitation facilities, health, shelter, education and information.\" A common measure of extreme poverty is a person living on less than \\$1.25 per day.\n",
    "\n",
    "In 2018, the proportion of people living in extreme poverty was estimated to be 8%. Although the world rate of extreme poverty has declined consistently for hundreds of years, the number of people living in extreme poverty is still over 600 million. The United Nations recently adopted an [ambitious goal](http://www.un.org/sustainabledevelopment/poverty/): \"By 2030, eradicate extreme poverty for all people everywhere.\"\n",
    "In this section, we will examine extreme poverty trends around the world."
   ]
  },
  {
   "cell_type": "markdown",
   "metadata": {
    "deletable": false,
    "editable": false
   },
   "source": [
    "First, load the population and poverty rate by country and year and the country descriptions. While the `population` table has values for every recent year for many countries, the `poverty` table only includes certain years for each country in which a measurement of the rate of extreme poverty was available."
   ]
  },
  {
   "cell_type": "code",
   "execution_count": 43,
   "metadata": {},
   "outputs": [
    {
     "data": {
      "text/html": [
       "<table border=\"1\" class=\"dataframe\">\n",
       "    <thead>\n",
       "        <tr>\n",
       "            <th>geo</th> <th>time</th> <th>extreme_poverty_percent_people_below_125_a_day</th>\n",
       "        </tr>\n",
       "    </thead>\n",
       "    <tbody>\n",
       "        <tr>\n",
       "            <td>alb </td> <td>1996</td> <td>0.2                                           </td>\n",
       "        </tr>\n",
       "        <tr>\n",
       "            <td>alb </td> <td>2002</td> <td>0.73                                          </td>\n",
       "        </tr>\n",
       "        <tr>\n",
       "            <td>alb </td> <td>2004</td> <td>0.53                                          </td>\n",
       "        </tr>\n",
       "    </tbody>\n",
       "</table>\n",
       "<p>... (1096 rows omitted)</p>"
      ],
      "text/plain": [
       "<IPython.core.display.HTML object>"
      ]
     },
     "metadata": {},
     "output_type": "display_data"
    }
   ],
   "source": [
    "population = Table.read_table('population.csv')\n",
    "countries = Table.read_table('countries.csv').where('country', are.contained_in(population.group('geo').column('geo')))\n",
    "poverty = Table.read_table('poverty.csv')\n",
    "poverty.show(3)"
   ]
  },
  {
   "cell_type": "markdown",
   "metadata": {
    "deletable": false,
    "editable": false
   },
   "source": [
    "**Question 1.** Assign `latest_poverty` to a three-column table with one row for each country that appears in the `poverty` table. The first column should contain the 3-letter code for the country. The second column should contain the most recent year for which an extreme poverty rate is available for the country. The third column should contain the poverty rate in that year. **Do not change the last line, so that the labels of your table are set correctly.**\n",
    "\n",
    "*Hint*: think about how ```group``` works: it does a sequential search of the table (from top to bottom) and collects values in the array in the order in which they appear, and then applies a function to that array. The `first` function may be helpful, but you are not required to use it.\n",
    "\n",
    "<!--\n",
    "BEGIN QUESTION\n",
    "name: q2_1\n",
    "-->"
   ]
  },
  {
   "cell_type": "code",
   "execution_count": 44,
   "metadata": {
    "deletable": false
   },
   "outputs": [
    {
     "data": {
      "text/html": [
       "<table border=\"1\" class=\"dataframe\">\n",
       "    <thead>\n",
       "        <tr>\n",
       "            <th>geo</th> <th>time</th> <th>poverty_percent</th>\n",
       "        </tr>\n",
       "    </thead>\n",
       "    <tbody>\n",
       "        <tr>\n",
       "            <td>ago </td> <td>2009</td> <td>43.37          </td>\n",
       "        </tr>\n",
       "        <tr>\n",
       "            <td>alb </td> <td>2012</td> <td>0.46           </td>\n",
       "        </tr>\n",
       "        <tr>\n",
       "            <td>arg </td> <td>2011</td> <td>1.41           </td>\n",
       "        </tr>\n",
       "        <tr>\n",
       "            <td>arm </td> <td>2012</td> <td>1.75           </td>\n",
       "        </tr>\n",
       "        <tr>\n",
       "            <td>aus </td> <td>2003</td> <td>1.36           </td>\n",
       "        </tr>\n",
       "        <tr>\n",
       "            <td>aut </td> <td>2004</td> <td>0.34           </td>\n",
       "        </tr>\n",
       "        <tr>\n",
       "            <td>aze </td> <td>2008</td> <td>0.31           </td>\n",
       "        </tr>\n",
       "        <tr>\n",
       "            <td>bdi </td> <td>2006</td> <td>81.32          </td>\n",
       "        </tr>\n",
       "        <tr>\n",
       "            <td>bel </td> <td>2000</td> <td>0.5            </td>\n",
       "        </tr>\n",
       "        <tr>\n",
       "            <td>ben </td> <td>2012</td> <td>51.61          </td>\n",
       "        </tr>\n",
       "    </tbody>\n",
       "</table>\n",
       "<p>... (135 rows omitted)</p>"
      ],
      "text/plain": [
       "geo  | time | poverty_percent\n",
       "ago  | 2009 | 43.37\n",
       "alb  | 2012 | 0.46\n",
       "arg  | 2011 | 1.41\n",
       "arm  | 2012 | 1.75\n",
       "aus  | 2003 | 1.36\n",
       "aut  | 2004 | 0.34\n",
       "aze  | 2008 | 0.31\n",
       "bdi  | 2006 | 81.32\n",
       "bel  | 2000 | 0.5\n",
       "ben  | 2012 | 51.61\n",
       "... (135 rows omitted)"
      ]
     },
     "execution_count": 44,
     "metadata": {},
     "output_type": "execute_result"
    }
   ],
   "source": [
    "def first(values):\n",
    "    return values.item(0)\n",
    "\n",
    "latest_poverty = poverty.sort('time', descending = True).group('geo', first)\n",
    "latest_poverty = latest_poverty.relabeled(0, 'geo').relabeled(1, 'time').relabeled(2, 'poverty_percent') # You should *not* change this line.\n",
    "latest_poverty"
   ]
  },
  {
   "cell_type": "code",
   "execution_count": 45,
   "metadata": {
    "deletable": false,
    "editable": false
   },
   "outputs": [
    {
     "name": "stdout",
     "output_type": "stream",
     "text": [
      "~~~~~~~~~~~~~~~~~~~~~~~~~~~~~~~~~~~~~~~~~~~~~~~~~~~~~~~~~~~~~~~~~~~~~\n",
      "Running tests\n",
      "\n",
      "---------------------------------------------------------------------\n",
      "Test summary\n",
      "    Passed: 2\n",
      "    Failed: 0\n",
      "[ooooooooook] 100.0% passed\n",
      "\n"
     ]
    }
   ],
   "source": [
    "ok.grade(\"q2_1\");"
   ]
  },
  {
   "cell_type": "markdown",
   "metadata": {
    "deletable": false,
    "editable": false
   },
   "source": [
    "**Question 2.** Using both `latest_poverty` and `population`, create a four-column table called `recent_poverty_total` with one row for each country in `latest_poverty`. The four columns should have the following labels and contents:\n",
    "1. `geo` contains the 3-letter country code,\n",
    "1. `poverty_percent` contains the most recent poverty percent,\n",
    "1. `population_total` contains the population of the country in 2010,\n",
    "1. `poverty_total` contains the number of people in poverty **rounded to the nearest integer**, based on the 2010 population and most recent poverty rate.\n",
    "\n",
    "<!--\n",
    "BEGIN QUESTION\n",
    "name: q2_2\n",
    "-->"
   ]
  },
  {
   "cell_type": "code",
   "execution_count": 46,
   "metadata": {
    "deletable": false
   },
   "outputs": [
    {
     "data": {
      "text/html": [
       "<table border=\"1\" class=\"dataframe\">\n",
       "    <thead>\n",
       "        <tr>\n",
       "            <th>geo</th> <th>poverty_percent</th> <th>population_total</th> <th>poverty_total</th>\n",
       "        </tr>\n",
       "    </thead>\n",
       "    <tbody>\n",
       "        <tr>\n",
       "            <td>ago </td> <td>43.37          </td> <td>21219954        </td> <td>9.20309e+06  </td>\n",
       "        </tr>\n",
       "        <tr>\n",
       "            <td>alb </td> <td>0.46           </td> <td>2901883         </td> <td>13349        </td>\n",
       "        </tr>\n",
       "        <tr>\n",
       "            <td>arg </td> <td>1.41           </td> <td>41222875        </td> <td>581243       </td>\n",
       "        </tr>\n",
       "        <tr>\n",
       "            <td>arm </td> <td>1.75           </td> <td>2963496         </td> <td>51861        </td>\n",
       "        </tr>\n",
       "        <tr>\n",
       "            <td>aus </td> <td>1.36           </td> <td>22162863        </td> <td>301415       </td>\n",
       "        </tr>\n",
       "        <tr>\n",
       "            <td>aut </td> <td>0.34           </td> <td>8391986         </td> <td>28533        </td>\n",
       "        </tr>\n",
       "        <tr>\n",
       "            <td>aze </td> <td>0.31           </td> <td>9099893         </td> <td>28210        </td>\n",
       "        </tr>\n",
       "        <tr>\n",
       "            <td>bdi </td> <td>81.32          </td> <td>9461117         </td> <td>7.69378e+06  </td>\n",
       "        </tr>\n",
       "        <tr>\n",
       "            <td>bel </td> <td>0.5            </td> <td>10929978        </td> <td>54650        </td>\n",
       "        </tr>\n",
       "        <tr>\n",
       "            <td>ben </td> <td>51.61          </td> <td>9509798         </td> <td>4.90801e+06  </td>\n",
       "        </tr>\n",
       "    </tbody>\n",
       "</table>\n",
       "<p>... (135 rows omitted)</p>"
      ],
      "text/plain": [
       "geo  | poverty_percent | population_total | poverty_total\n",
       "ago  | 43.37           | 21219954         | 9.20309e+06\n",
       "alb  | 0.46            | 2901883          | 13349\n",
       "arg  | 1.41            | 41222875         | 581243\n",
       "arm  | 1.75            | 2963496          | 51861\n",
       "aus  | 1.36            | 22162863         | 301415\n",
       "aut  | 0.34            | 8391986          | 28533\n",
       "aze  | 0.31            | 9099893          | 28210\n",
       "bdi  | 81.32           | 9461117          | 7.69378e+06\n",
       "bel  | 0.5             | 10929978         | 54650\n",
       "ben  | 51.61           | 9509798          | 4.90801e+06\n",
       "... (135 rows omitted)"
      ]
     },
     "execution_count": 46,
     "metadata": {},
     "output_type": "execute_result"
    }
   ],
   "source": [
    "poverty_and_pop = latest_poverty.join(\n",
    "    'geo', population.where(\n",
    "        'time', are.equal_to(2010))).drop('time').drop('time_2')\n",
    "recent_poverty_total = poverty_and_pop.with_column('poverty_total', np.round((poverty_and_pop.column('poverty_percent')/100) * poverty_and_pop.column('population_total')))\n",
    "recent_poverty_total"
   ]
  },
  {
   "cell_type": "code",
   "execution_count": 47,
   "metadata": {
    "deletable": false,
    "editable": false
   },
   "outputs": [
    {
     "name": "stdout",
     "output_type": "stream",
     "text": [
      "~~~~~~~~~~~~~~~~~~~~~~~~~~~~~~~~~~~~~~~~~~~~~~~~~~~~~~~~~~~~~~~~~~~~~\n",
      "Running tests\n",
      "\n",
      "---------------------------------------------------------------------\n",
      "Test summary\n",
      "    Passed: 3\n",
      "    Failed: 0\n",
      "[ooooooooook] 100.0% passed\n",
      "\n"
     ]
    }
   ],
   "source": [
    "ok.grade(\"q2_2\");"
   ]
  },
  {
   "cell_type": "markdown",
   "metadata": {
    "deletable": false,
    "editable": false
   },
   "source": [
    "**Question 3.** Assign the name `poverty_percent` to the known percentage of the world’s 2010 population that were living in extreme poverty. Assume that the `poverty_total` numbers in the `recent_poverty_total` table describe **all** people in 2010 living in extreme poverty. You should find a number that is above the 2018 global estimate of 8%, since many country-specific poverty rates are older than 2018.\n",
    "\n",
    "*Hint*: The sum of the `population_total` column in the `recent_poverty_total` table is not the world population, because only a subset of the world's countries are included in the `recent_poverty_total` table (only some countries have known poverty rates). Use the `population` table to compute the world's 2010 total population..\n",
    "\n",
    "<!--\n",
    "BEGIN QUESTION\n",
    "name: q2_3\n",
    "-->"
   ]
  },
  {
   "cell_type": "code",
   "execution_count": 48,
   "metadata": {
    "deletable": false
   },
   "outputs": [
    {
     "data": {
      "text/plain": [
       "14.299370218520854"
      ]
     },
     "execution_count": 48,
     "metadata": {},
     "output_type": "execute_result"
    }
   ],
   "source": [
    "poverty_percent = sum(recent_poverty_total.column('poverty_total')) / sum(population.where('time', are.equal_to(2010)).column('population_total')) * 100\n",
    "poverty_percent"
   ]
  },
  {
   "cell_type": "code",
   "execution_count": 49,
   "metadata": {
    "deletable": false,
    "editable": false
   },
   "outputs": [
    {
     "name": "stdout",
     "output_type": "stream",
     "text": [
      "~~~~~~~~~~~~~~~~~~~~~~~~~~~~~~~~~~~~~~~~~~~~~~~~~~~~~~~~~~~~~~~~~~~~~\n",
      "Running tests\n",
      "\n",
      "---------------------------------------------------------------------\n",
      "Test summary\n",
      "    Passed: 1\n",
      "    Failed: 0\n",
      "[ooooooooook] 100.0% passed\n",
      "\n"
     ]
    }
   ],
   "source": [
    "ok.grade(\"q2_3\");"
   ]
  },
  {
   "cell_type": "markdown",
   "metadata": {
    "deletable": false,
    "editable": false
   },
   "source": [
    "The `countries` table includes not only the name and region of countries, but also their positions on the globe."
   ]
  },
  {
   "cell_type": "code",
   "execution_count": 50,
   "metadata": {
    "deletable": false,
    "editable": false
   },
   "outputs": [
    {
     "data": {
      "text/html": [
       "<table border=\"1\" class=\"dataframe\">\n",
       "    <thead>\n",
       "        <tr>\n",
       "            <th>country</th> <th>name</th> <th>world_4region</th> <th>latitude</th> <th>longitude</th>\n",
       "        </tr>\n",
       "    </thead>\n",
       "    <tbody>\n",
       "        <tr>\n",
       "            <td>afg      </td> <td>Afghanistan          </td> <td>asia         </td> <td>33      </td> <td>66       </td>\n",
       "        </tr>\n",
       "        <tr>\n",
       "            <td>akr_a_dhe</td> <td>Akrotiri and Dhekelia</td> <td>europe       </td> <td>nan     </td> <td>nan      </td>\n",
       "        </tr>\n",
       "        <tr>\n",
       "            <td>alb      </td> <td>Albania              </td> <td>europe       </td> <td>41      </td> <td>20       </td>\n",
       "        </tr>\n",
       "        <tr>\n",
       "            <td>dza      </td> <td>Algeria              </td> <td>africa       </td> <td>28      </td> <td>3        </td>\n",
       "        </tr>\n",
       "        <tr>\n",
       "            <td>asm      </td> <td>American Samoa       </td> <td>asia         </td> <td>-11.056 </td> <td>-171.082 </td>\n",
       "        </tr>\n",
       "        <tr>\n",
       "            <td>and      </td> <td>Andorra              </td> <td>europe       </td> <td>42.5078 </td> <td>1.52109  </td>\n",
       "        </tr>\n",
       "        <tr>\n",
       "            <td>ago      </td> <td>Angola               </td> <td>africa       </td> <td>-12.5   </td> <td>18.5     </td>\n",
       "        </tr>\n",
       "        <tr>\n",
       "            <td>aia      </td> <td>Anguilla             </td> <td>americas     </td> <td>18.2167 </td> <td>-63.05   </td>\n",
       "        </tr>\n",
       "        <tr>\n",
       "            <td>atg      </td> <td>Antigua and Barbuda  </td> <td>americas     </td> <td>17.05   </td> <td>-61.8    </td>\n",
       "        </tr>\n",
       "        <tr>\n",
       "            <td>arg      </td> <td>Argentina            </td> <td>americas     </td> <td>-34     </td> <td>-64      </td>\n",
       "        </tr>\n",
       "    </tbody>\n",
       "</table>\n",
       "<p>... (245 rows omitted)</p>"
      ],
      "text/plain": [
       "country   | name                  | world_4region | latitude | longitude\n",
       "afg       | Afghanistan           | asia          | 33       | 66\n",
       "akr_a_dhe | Akrotiri and Dhekelia | europe        | nan      | nan\n",
       "alb       | Albania               | europe        | 41       | 20\n",
       "dza       | Algeria               | africa        | 28       | 3\n",
       "asm       | American Samoa        | asia          | -11.056  | -171.082\n",
       "and       | Andorra               | europe        | 42.5078  | 1.52109\n",
       "ago       | Angola                | africa        | -12.5    | 18.5\n",
       "aia       | Anguilla              | americas      | 18.2167  | -63.05\n",
       "atg       | Antigua and Barbuda   | americas      | 17.05    | -61.8\n",
       "arg       | Argentina             | americas      | -34      | -64\n",
       "... (245 rows omitted)"
      ]
     },
     "execution_count": 50,
     "metadata": {},
     "output_type": "execute_result"
    }
   ],
   "source": [
    "countries.select('country', 'name', 'world_4region', 'latitude', 'longitude')"
   ]
  },
  {
   "cell_type": "markdown",
   "metadata": {
    "deletable": false,
    "editable": false
   },
   "source": [
    "**Question 4.** Using both `countries` and `recent_poverty_total`, create a five-column table called `poverty_map` with one row for every country in `recent_poverty_total`.  The five columns should have the following labels and contents:\n",
    "1. `latitude` contains the country's latitude,\n",
    "1. `longitude` contains the country's longitude,\n",
    "1. `name` contains the country's name,\n",
    "1. `region` contains the country's region from the `world_4region` column of `countries`,\n",
    "1. `poverty_total` contains the country's poverty total.\n",
    "\n",
    "<!--\n",
    "BEGIN QUESTION\n",
    "name: q2_4\n",
    "-->"
   ]
  },
  {
   "cell_type": "code",
   "execution_count": 51,
   "metadata": {
    "deletable": false
   },
   "outputs": [
    {
     "data": {
      "text/html": [
       "<table border=\"1\" class=\"dataframe\">\n",
       "    <thead>\n",
       "        <tr>\n",
       "            <th>latitude</th> <th>longitude</th> <th>name</th> <th>region</th> <th>poverty_total</th>\n",
       "        </tr>\n",
       "    </thead>\n",
       "    <tbody>\n",
       "        <tr>\n",
       "            <td>-12.5   </td> <td>18.5     </td> <td>Angola    </td> <td>africa  </td> <td>9.20309e+06  </td>\n",
       "        </tr>\n",
       "        <tr>\n",
       "            <td>41      </td> <td>20       </td> <td>Albania   </td> <td>europe  </td> <td>13349        </td>\n",
       "        </tr>\n",
       "        <tr>\n",
       "            <td>-34     </td> <td>-64      </td> <td>Argentina </td> <td>americas</td> <td>581243       </td>\n",
       "        </tr>\n",
       "        <tr>\n",
       "            <td>40.25   </td> <td>45       </td> <td>Armenia   </td> <td>europe  </td> <td>51861        </td>\n",
       "        </tr>\n",
       "        <tr>\n",
       "            <td>-25     </td> <td>135      </td> <td>Australia </td> <td>asia    </td> <td>301415       </td>\n",
       "        </tr>\n",
       "        <tr>\n",
       "            <td>47.3333 </td> <td>13.3333  </td> <td>Austria   </td> <td>europe  </td> <td>28533        </td>\n",
       "        </tr>\n",
       "        <tr>\n",
       "            <td>40.5    </td> <td>47.5     </td> <td>Azerbaijan</td> <td>europe  </td> <td>28210        </td>\n",
       "        </tr>\n",
       "        <tr>\n",
       "            <td>-3.5    </td> <td>30       </td> <td>Burundi   </td> <td>africa  </td> <td>7.69378e+06  </td>\n",
       "        </tr>\n",
       "        <tr>\n",
       "            <td>50.75   </td> <td>4.5      </td> <td>Belgium   </td> <td>europe  </td> <td>54650        </td>\n",
       "        </tr>\n",
       "        <tr>\n",
       "            <td>9.5     </td> <td>2.25     </td> <td>Benin     </td> <td>africa  </td> <td>4.90801e+06  </td>\n",
       "        </tr>\n",
       "    </tbody>\n",
       "</table>\n",
       "<p>... (135 rows omitted)</p>"
      ],
      "text/plain": [
       "latitude | longitude | name       | region   | poverty_total\n",
       "-12.5    | 18.5      | Angola     | africa   | 9.20309e+06\n",
       "41       | 20        | Albania    | europe   | 13349\n",
       "-34      | -64       | Argentina  | americas | 581243\n",
       "40.25    | 45        | Armenia    | europe   | 51861\n",
       "-25      | 135       | Australia  | asia     | 301415\n",
       "47.3333  | 13.3333   | Austria    | europe   | 28533\n",
       "40.5     | 47.5      | Azerbaijan | europe   | 28210\n",
       "-3.5     | 30        | Burundi    | africa   | 7.69378e+06\n",
       "50.75    | 4.5       | Belgium    | europe   | 54650\n",
       "9.5      | 2.25      | Benin      | africa   | 4.90801e+06\n",
       "... (135 rows omitted)"
      ]
     },
     "execution_count": 51,
     "metadata": {},
     "output_type": "execute_result"
    }
   ],
   "source": [
    "poverty_map = countries.join('country', recent_poverty_total, 'geo').select(\n",
    "    'latitude', 'longitude', 'name', 'world_4region', 'poverty_total').relabel('world_4region', 'region')\n",
    "poverty_map"
   ]
  },
  {
   "cell_type": "code",
   "execution_count": 52,
   "metadata": {
    "deletable": false,
    "editable": false
   },
   "outputs": [
    {
     "name": "stdout",
     "output_type": "stream",
     "text": [
      "~~~~~~~~~~~~~~~~~~~~~~~~~~~~~~~~~~~~~~~~~~~~~~~~~~~~~~~~~~~~~~~~~~~~~\n",
      "Running tests\n",
      "\n",
      "---------------------------------------------------------------------\n",
      "Test summary\n",
      "    Passed: 2\n",
      "    Failed: 0\n",
      "[ooooooooook] 100.0% passed\n",
      "\n"
     ]
    }
   ],
   "source": [
    "ok.grade(\"q2_4\");"
   ]
  },
  {
   "cell_type": "markdown",
   "metadata": {
    "deletable": false,
    "editable": false
   },
   "source": [
    "Run the cell below to draw a map of the world in which the areas of circles represent the number of people living in extreme poverty. Double-click on the map to zoom in."
   ]
  },
  {
   "cell_type": "code",
   "execution_count": 53,
   "metadata": {
    "deletable": false,
    "editable": false
   },
   "outputs": [
    {
     "data": {
      "text/html": [
       "<div style=\"width:100%;\"><div style=\"position:relative;width:100%;height:0;padding-bottom:60%;\"><span style=\"color:#565656\">Make this Notebook Trusted to load map: File -> Trust Notebook</span><iframe src=\"about:blank\" style=\"position:absolute;width:100%;height:100%;left:0;top:0;border:none !important;\" data-html=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 onload=\"this.contentDocument.open();this.contentDocument.write(atob(this.getAttribute('data-html')));this.contentDocument.close();\" allowfullscreen webkitallowfullscreen mozallowfullscreen></iframe></div></div>"
      ],
      "text/plain": [
       "<datascience.maps.Map at 0x7f25f7a0a5f8>"
      ]
     },
     "execution_count": 53,
     "metadata": {},
     "output_type": "execute_result"
    }
   ],
   "source": [
    "# It may take a few seconds to generate this map.\n",
    "colors = {'africa': 'blue', 'europe': 'black', 'asia': 'red', 'americas': 'green'}\n",
    "scaled = poverty_map.with_columns(\n",
    "    'poverty_total', 1e-4 * poverty_map.column('poverty_total'),\n",
    "    'region', poverty_map.apply(colors.get, 'region')\n",
    ")\n",
    "Circle.map_table(scaled)"
   ]
  },
  {
   "cell_type": "markdown",
   "metadata": {
    "deletable": false,
    "editable": false
   },
   "source": [
    "Although people live in extreme poverty throughout the world (with more than 5 million in the United States), the largest numbers are in Asia and Africa."
   ]
  },
  {
   "cell_type": "markdown",
   "metadata": {
    "deletable": false,
    "editable": false
   },
   "source": [
    "**Question 5.** Assign `largest` to a two-column table with the `name` (not the 3-letter code) and `poverty_total` of the 10 countries with the largest number of people living in extreme poverty.\n",
    "\n",
    "<!--\n",
    "BEGIN QUESTION\n",
    "name: q2_5\n",
    "-->"
   ]
  },
  {
   "cell_type": "code",
   "execution_count": 54,
   "metadata": {
    "deletable": false
   },
   "outputs": [
    {
     "data": {
      "text/html": [
       "<table border=\"1\" class=\"dataframe\">\n",
       "    <thead>\n",
       "        <tr>\n",
       "            <th>name</th> <th>poverty_total</th>\n",
       "        </tr>\n",
       "    </thead>\n",
       "    <tbody>\n",
       "        <tr>\n",
       "            <td>India           </td> <td>290,881,638.00</td>\n",
       "        </tr>\n",
       "        <tr>\n",
       "            <td>Nigeria         </td> <td>98,891,167.00 </td>\n",
       "        </tr>\n",
       "        <tr>\n",
       "            <td>China           </td> <td>83,944,643.00 </td>\n",
       "        </tr>\n",
       "        <tr>\n",
       "            <td>Bangladesh      </td> <td>65,574,256.00 </td>\n",
       "        </tr>\n",
       "        <tr>\n",
       "            <td>Congo, Dem. Rep.</td> <td>57,841,438.00 </td>\n",
       "        </tr>\n",
       "        <tr>\n",
       "            <td>Indonesia       </td> <td>39,141,326.00 </td>\n",
       "        </tr>\n",
       "        <tr>\n",
       "            <td>Ethiopia        </td> <td>32,213,991.00 </td>\n",
       "        </tr>\n",
       "        <tr>\n",
       "            <td>Pakistan        </td> <td>21,663,595.00 </td>\n",
       "        </tr>\n",
       "        <tr>\n",
       "            <td>Tanzania        </td> <td>19,847,979.00 </td>\n",
       "        </tr>\n",
       "        <tr>\n",
       "            <td>Madagascar      </td> <td>18,480,426.00 </td>\n",
       "        </tr>\n",
       "    </tbody>\n",
       "</table>"
      ],
      "text/plain": [
       "name             | poverty_total\n",
       "India            | 290,881,638.00\n",
       "Nigeria          | 98,891,167.00\n",
       "China            | 83,944,643.00\n",
       "Bangladesh       | 65,574,256.00\n",
       "Congo, Dem. Rep. | 57,841,438.00\n",
       "Indonesia        | 39,141,326.00\n",
       "Ethiopia         | 32,213,991.00\n",
       "Pakistan         | 21,663,595.00\n",
       "Tanzania         | 19,847,979.00\n",
       "Madagascar       | 18,480,426.00"
      ]
     },
     "execution_count": 54,
     "metadata": {},
     "output_type": "execute_result"
    }
   ],
   "source": [
    "largest = poverty_map.sort('poverty_total', descending = True).take(np.arange(0, 10)).drop(\n",
    "    'latitude', 'longitude', 'region')\n",
    "largest.set_format('poverty_total', NumberFormatter)"
   ]
  },
  {
   "cell_type": "code",
   "execution_count": 55,
   "metadata": {
    "deletable": false,
    "editable": false
   },
   "outputs": [
    {
     "name": "stdout",
     "output_type": "stream",
     "text": [
      "~~~~~~~~~~~~~~~~~~~~~~~~~~~~~~~~~~~~~~~~~~~~~~~~~~~~~~~~~~~~~~~~~~~~~\n",
      "Running tests\n",
      "\n",
      "---------------------------------------------------------------------\n",
      "Test summary\n",
      "    Passed: 3\n",
      "    Failed: 0\n",
      "[ooooooooook] 100.0% passed\n",
      "\n"
     ]
    }
   ],
   "source": [
    "ok.grade(\"q2_5\");"
   ]
  },
  {
   "cell_type": "markdown",
   "metadata": {
    "deletable": false
   },
   "source": [
    "**Question 6.** Write a function called `poverty_timeline` that takes **the name of a country** as its argument. It should draw a line plot of the number of people living in poverty in that country with time on the horizontal axis. The line plot should have a point for each row in the `poverty` table for that country. To compute the population living in poverty from a poverty percentage, multiply by the population of the country **in that year**.\n",
    "\n",
    "*Hint:* This question is long. Feel free to create cells and experiment. "
   ]
  },
  {
   "cell_type": "code",
   "execution_count": 56,
   "metadata": {},
   "outputs": [],
   "source": [
    "def poverty_timeline(country):\n",
    "    '''Draw a timeline of people living in extreme poverty in a country.'''\n",
    "    geo = countries.where('name', are.equal_to(country)).column('country').item(0)\n",
    "    # This solution will take multiple lines of code. Use as many as you need\n",
    "    new_table = poverty.where('geo', are.equal_to(geo)).drop('geo').join(\n",
    "        'time', population.where('geo', are.equal_to(geo)).drop('geo'))\n",
    "    \n",
    "    final_table = new_table.with_column('Number of people live in poverty', new_table.column(\n",
    "        'extreme_poverty_percent_people_below_125_a_day')/100 * new_table.column('population_total'))\n",
    "    \n",
    "    return final_table.plot('time', 'Number of people live in poverty')"
   ]
  },
  {
   "cell_type": "markdown",
   "metadata": {
    "deletable": false,
    "editable": false
   },
   "source": [
    "Finally, draw the timelines below to see how the world is changing. You can check your work by comparing your graphs to the ones on [gapminder.org](https://www.gapminder.org/tools/#$state$entities$show$country$/$in@=ind;;;;&marker$axis_y$which=number_of_people_in_poverty&scaleType=linear&spaceRef:null;;;&chart-type=linechart).\n",
    "\n",
    "<!--\n",
    "BEGIN QUESTION\n",
    "name: q2_6\n",
    "manual: true\n",
    "-->\n",
    "<!-- EXPORT TO PDF -->"
   ]
  },
  {
   "cell_type": "code",
   "execution_count": 57,
   "metadata": {
    "export_pdf": true
   },
   "outputs": [
    {
     "data": {
      "image/png": "[encoded data removed]",
      "text/plain": [
       "<Figure size 432x288 with 1 Axes>"
      ]
     },
     "metadata": {},
     "output_type": "display_data"
    },
    {
     "data": {
      "image/png": "[encoded data removed]",
      "text/plain": [
       "<Figure size 432x288 with 1 Axes>"
      ]
     },
     "metadata": {},
     "output_type": "display_data"
    },
    {
     "data": {
      "image/png": "[encoded data removed]",
      "text/plain": [
       "<Figure size 432x288 with 1 Axes>"
      ]
     },
     "metadata": {},
     "output_type": "display_data"
    },
    {
     "data": {
      "image/png": "[encoded data removed]",
      "text/plain": [
       "<Figure size 432x288 with 1 Axes>"
      ]
     },
     "metadata": {},
     "output_type": "display_data"
    }
   ],
   "source": [
    "poverty_timeline('India')\n",
    "poverty_timeline('Nigeria')\n",
    "poverty_timeline('China')\n",
    "poverty_timeline('United States')"
   ]
  },
  {
   "cell_type": "markdown",
   "metadata": {
    "deletable": false,
    "editable": false
   },
   "source": [
    "Although the number of people living in extreme poverty has been increasing in Nigeria and the United States, the massive decreases in China and India have shaped the overall trend that extreme poverty is decreasing worldwide, both in percentage and in absolute number. \n",
    "\n",
    "To learn more, watch [Hans Rosling in a 2015 film](https://www.gapminder.org/videos/dont-panic-end-poverty/) about the UN goal of eradicating extreme poverty from the world. \n",
    "\n",
    "Below, we've also added an interactive dropdown menu for you to visualize `poverty_timeline` graphs for other countries. Note that each dropdown menu selection may take a few seconds to run."
   ]
  },
  {
   "cell_type": "code",
   "execution_count": 58,
   "metadata": {
    "deletable": false,
    "editable": false
   },
   "outputs": [
    {
     "data": {
      "application/vnd.jupyter.widget-view+json": {
       "model_id": "6f5fd8d379654d30a3f999b2431ea182",
       "version_major": 2,
       "version_minor": 0
      },
      "text/plain": [
       "interactive(children=(Dropdown(description='country', options=('Angola', 'Albania', 'Argentina', 'Armenia', 'A…"
      ]
     },
     "metadata": {},
     "output_type": "display_data"
    }
   ],
   "source": [
    "# Just run this cell\n",
    "\n",
    "all_countries = poverty_map.column('name')\n",
    "_ = widgets.interact(poverty_timeline, country=list(all_countries))"
   ]
  },
  {
   "cell_type": "markdown",
   "metadata": {
    "deletable": false,
    "editable": false
   },
   "source": [
    "**You're finished!** Congratulations on mastering data visualization and table manipulation. Time to submit."
   ]
  },
  {
   "cell_type": "markdown",
   "metadata": {},
   "source": [
    "## 3. Submission\n"
   ]
  },
  {
   "cell_type": "markdown",
   "metadata": {
    "collapsed": true
   },
   "source": [
    "Once you're finished, select \"Save and Checkpoint\" in the File menu and then execute the `submit` cell below. The result will contain a link that you can use to check that your assignment has been submitted successfully. If you submit more than once before the deadline, we will only grade your final submission. If you mistakenly submit the wrong one, you can head to [okpy.org](https://okpy.org/) and flag the correct version. To do so, go to the website, click on this assignment, and find the version you would like to have graded. There should be an option to flag that submission for grading!"
   ]
  },
  {
   "cell_type": "code",
   "execution_count": null,
   "metadata": {},
   "outputs": [
    {
     "data": {
      "application/javascript": [
       "IPython.notebook.save_checkpoint();"
      ],
      "text/plain": [
       "<IPython.core.display.Javascript object>"
      ]
     },
     "metadata": {},
     "output_type": "display_data"
    }
   ],
   "source": [
    "_ = ok.submit()"
   ]
  },
  {
   "cell_type": "code",
   "execution_count": 64,
   "metadata": {},
   "outputs": [
    {
     "name": "stdout",
     "output_type": "stream",
     "text": [
      "Running all tests...\n",
      "~~~~~~~~~~~~~~~~~~~~~~~~~~~~~~~~~~~~~~~~~~~~~~~~~~~~~~~~~~~~~~~~~~~~~\n",
      "Running tests\n",
      "\n",
      "---------------------------------------------------------------------\n",
      "Test summary\n",
      "    Passed: 1\n",
      "    Failed: 0\n",
      "[ooooooooook] 100.0% passed\n",
      "\n",
      "~~~~~~~~~~~~~~~~~~~~~~~~~~~~~~~~~~~~~~~~~~~~~~~~~~~~~~~~~~~~~~~~~~~~~\n",
      "Running tests\n",
      "\n",
      "---------------------------------------------------------------------\n",
      "Test summary\n",
      "    Passed: 3\n",
      "    Failed: 0\n",
      "[ooooooooook] 100.0% passed\n",
      "\n",
      "~~~~~~~~~~~~~~~~~~~~~~~~~~~~~~~~~~~~~~~~~~~~~~~~~~~~~~~~~~~~~~~~~~~~~\n",
      "Running tests\n",
      "\n",
      "---------------------------------------------------------------------\n",
      "Test summary\n",
      "    Passed: 2\n",
      "    Failed: 0\n",
      "[ooooooooook] 100.0% passed\n",
      "\n",
      "~~~~~~~~~~~~~~~~~~~~~~~~~~~~~~~~~~~~~~~~~~~~~~~~~~~~~~~~~~~~~~~~~~~~~\n",
      "Running tests\n",
      "\n",
      "---------------------------------------------------------------------\n",
      "Test summary\n",
      "    Passed: 2\n",
      "    Failed: 0\n",
      "[ooooooooook] 100.0% passed\n",
      "\n",
      "~~~~~~~~~~~~~~~~~~~~~~~~~~~~~~~~~~~~~~~~~~~~~~~~~~~~~~~~~~~~~~~~~~~~~\n",
      "Running tests\n",
      "\n",
      "---------------------------------------------------------------------\n",
      "Test summary\n",
      "    Passed: 2\n",
      "    Failed: 0\n",
      "[ooooooooook] 100.0% passed\n",
      "\n",
      "~~~~~~~~~~~~~~~~~~~~~~~~~~~~~~~~~~~~~~~~~~~~~~~~~~~~~~~~~~~~~~~~~~~~~\n",
      "Running tests\n",
      "\n",
      "---------------------------------------------------------------------\n",
      "Test summary\n",
      "    Passed: 2\n",
      "    Failed: 0\n",
      "[ooooooooook] 100.0% passed\n",
      "\n",
      "~~~~~~~~~~~~~~~~~~~~~~~~~~~~~~~~~~~~~~~~~~~~~~~~~~~~~~~~~~~~~~~~~~~~~\n",
      "Running tests\n",
      "\n",
      "---------------------------------------------------------------------\n",
      "Test summary\n",
      "    Passed: 2\n",
      "    Failed: 0\n",
      "[ooooooooook] 100.0% passed\n",
      "\n",
      "~~~~~~~~~~~~~~~~~~~~~~~~~~~~~~~~~~~~~~~~~~~~~~~~~~~~~~~~~~~~~~~~~~~~~\n",
      "Running tests\n",
      "\n",
      "---------------------------------------------------------------------\n",
      "Test summary\n",
      "    Passed: 3\n",
      "    Failed: 0\n",
      "[ooooooooook] 100.0% passed\n",
      "\n",
      "~~~~~~~~~~~~~~~~~~~~~~~~~~~~~~~~~~~~~~~~~~~~~~~~~~~~~~~~~~~~~~~~~~~~~\n",
      "Running tests\n",
      "\n",
      "---------------------------------------------------------------------\n",
      "Test summary\n",
      "    Passed: 4\n",
      "    Failed: 0\n",
      "[ooooooooook] 100.0% passed\n",
      "\n",
      "~~~~~~~~~~~~~~~~~~~~~~~~~~~~~~~~~~~~~~~~~~~~~~~~~~~~~~~~~~~~~~~~~~~~~\n",
      "Running tests\n",
      "\n",
      "---------------------------------------------------------------------\n",
      "Test summary\n",
      "    Passed: 1\n",
      "    Failed: 0\n",
      "[ooooooooook] 100.0% passed\n",
      "\n",
      "~~~~~~~~~~~~~~~~~~~~~~~~~~~~~~~~~~~~~~~~~~~~~~~~~~~~~~~~~~~~~~~~~~~~~\n",
      "Running tests\n",
      "\n",
      "---------------------------------------------------------------------\n",
      "Test summary\n",
      "    Passed: 2\n",
      "    Failed: 0\n",
      "[ooooooooook] 100.0% passed\n",
      "\n",
      "~~~~~~~~~~~~~~~~~~~~~~~~~~~~~~~~~~~~~~~~~~~~~~~~~~~~~~~~~~~~~~~~~~~~~\n",
      "Running tests\n",
      "\n",
      "---------------------------------------------------------------------\n",
      "Test summary\n",
      "    Passed: 3\n",
      "    Failed: 0\n",
      "[ooooooooook] 100.0% passed\n",
      "\n",
      "~~~~~~~~~~~~~~~~~~~~~~~~~~~~~~~~~~~~~~~~~~~~~~~~~~~~~~~~~~~~~~~~~~~~~\n",
      "Running tests\n",
      "\n",
      "---------------------------------------------------------------------\n",
      "Test summary\n",
      "    Passed: 2\n",
      "    Failed: 0\n",
      "[ooooooooook] 100.0% passed\n",
      "\n",
      "~~~~~~~~~~~~~~~~~~~~~~~~~~~~~~~~~~~~~~~~~~~~~~~~~~~~~~~~~~~~~~~~~~~~~\n",
      "Running tests\n",
      "\n",
      "---------------------------------------------------------------------\n",
      "Test summary\n",
      "    Passed: 3\n",
      "    Failed: 0\n",
      "[ooooooooook] 100.0% passed\n",
      "\n",
      "~~~~~~~~~~~~~~~~~~~~~~~~~~~~~~~~~~~~~~~~~~~~~~~~~~~~~~~~~~~~~~~~~~~~~\n",
      "Running tests\n",
      "\n",
      "---------------------------------------------------------------------\n",
      "Test summary\n",
      "    Passed: 1\n",
      "    Failed: 0\n",
      "[ooooooooook] 100.0% passed\n",
      "\n",
      "Finished running all tests.\n"
     ]
    }
   ],
   "source": [
    "# For your convenience, you can run this cell to run all the tests at once!\n",
    "import os\n",
    "print(\"Running all tests...\")\n",
    "_ = [ok.grade(q[:-3]) for q in os.listdir(\"tests\") if q.startswith('q') and len(q) <= 10]\n",
    "print(\"Finished running all tests.\")"
   ]
  },
  {
   "cell_type": "code",
   "execution_count": null,
   "metadata": {},
   "outputs": [],
   "source": []
  }
 ],
 "metadata": {
  "kernelspec": {
   "display_name": "Python 3",
   "language": "python",
   "name": "python3"
  },
  "language_info": {
   "codemirror_mode": {
    "name": "ipython",
    "version": 3
   },
   "file_extension": ".py",
   "mimetype": "text/x-python",
   "name": "python",
   "nbconvert_exporter": "python",
   "pygments_lexer": "ipython3",
   "version": "3.8.5"
  }
 },
 "nbformat": 4,
 "nbformat_minor": 1
}
